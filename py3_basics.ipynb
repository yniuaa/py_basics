{
 "cells": [
  {
   "cell_type": "markdown",
   "metadata": {},
   "source": [
    "# Python3 Basics\n",
    "\n",
    "This Jupyter Notebook is a note while I am learning programming with Python3. I followed the online tutorial by [PythonProgramming](https://pythonprogramming.net/). You can also find the tutorial videos on Youtube by [sentdex](https://www.youtube.com/user/sentdex).\n",
    "\n",
    "-----\n",
    "\n",
    "Let's get started!"
   ]
  },
  {
   "cell_type": "markdown",
   "metadata": {},
   "source": [
    "## Python Introduction\n",
    "\n",
    "Python is very beginner-friendly. The syntax (words and structure) is extremely simple to read and follow, most of which can be understood even if you do not know any programming.\n",
    "\n",
    "`print()` is a built-in Python function that will output some text to the *console*. This might be a command prompt (CMD.exe), the termial for Mac/Linux USERS, or the interactive prompt in IDLE\n",
    "\n",
    "### What can Python do?\n",
    "\n",
    "Python is a fully-functional programming language that can do *anything* almost any other language can do, ate comparable speeds.\n",
    "\n",
    "Python is capable of threading and GPU processing just like any other language. Most of the data processing **modules** are actually just Python wrappers around C/C++ code.\n",
    "\n",
    "\"Modules\" are pre-written Python code that you \"import\" in your Python program. Since there are many tasks that people commonly do, we have modules that people have written that do these tasks for you, and they usually do them in the cleanest and most efficient method possible. Sometimes you will see people refer to \"DRY\". This stand for Don't Repeat Yourself, which often also translate into \"Don't Repeat Someone Else\".\n",
    "\n",
    "The phrase \"wrapper\" means that someone has placed, like a wrapper, Python code over another language. So, when you have a Python wrapper around C++ code, what someone has done is written some Python code that interacts with the C++ language. This allows you to make use of various aspects of the language being wrapped, in this case C++, without actually needing to know or understand that language.\n",
    "\n",
    "Thus, Python can be used to make games, do data analysis, control robot and hardware, create GUIs, or even to create websites."
   ]
  },
  {
   "cell_type": "code",
   "execution_count": 2,
   "metadata": {},
   "outputs": [
    {
     "name": "stdout",
     "output_type": "stream",
     "text": [
      "Ferrari\n",
      "Honda\n",
      "Porsche\n",
      "Toyota\n"
     ]
    }
   ],
   "source": [
    "Garage = 'Ferrari', 'Honda', 'Porsche', 'Toyota'\n",
    "for each_car in Garage:\n",
    "    print(each_car)"
   ]
  },
  {
   "cell_type": "markdown",
   "metadata": {},
   "source": [
    "### Print Function and Strings\n",
    "\n",
    "The print function in Python is a function that outputs to your console window whatever you say you want to print out.\n",
    "\n",
    "Strings are just \"strings\" of text, hence the name. Strings are a type of data. \n",
    "\n",
    "Concatenation means the combination of things. You can use the **\"+\"** or the **\",\"** to join strings together. If you use a **\",\"**, then you will have a space in between the strings you joined. If you use a **\"+\"**, then the strings will be strung together with no space. You will need to add one if you wanted.\n",
    "\n",
    "If you use the **\"+\"** to join integers and floats together, then you will perform an arithmetic operation. If you use the **\",\"**, then it will print them out separately, with a space. You cannot use the **\"+\"** to join strings with ints or floats, you must use the **\",\"**.\n",
    "\n",
    "To put quotes within strings, you can either put double quotes inside single quotes, single quotes inside doubles, or use the \"\\\" backslash. The \\ character is known as an *escape character*, and it will 'escape' the characteristic of the following character and just take on the 'visual' aspect of it."
   ]
  },
  {
   "cell_type": "code",
   "execution_count": 3,
   "metadata": {},
   "outputs": [
    {
     "name": "stdout",
     "output_type": "stream",
     "text": [
      "Single Quotes\n",
      "Double Quotes\n",
      "can do this 5\n",
      "can do this 5\n",
      "you'll have success here\n",
      "you'll have success here too\n"
     ]
    }
   ],
   "source": [
    "print('Single Quotes')\n",
    "print(\"Double Quotes\")\n",
    "print('can do this', 5)\n",
    "#print('cannot do this' + 5)\n",
    "print('can do this ' + str(5))\n",
    "print('you\\'ll have success here')\n",
    "print(\"you'll have success here too\")"
   ]
  },
  {
   "cell_type": "markdown",
   "metadata": {},
   "source": [
    "### Math basics\n",
    "\n",
    "#### Division\n",
    "\n",
    "In Python 2, the division does not necessarily work in the way expected. If you divide two whole numbers, you will be returned a whole number. You must divide one of the numbers as a float in order to get a proper return. This was changed in Python 3+, and now you always get expected division."
   ]
  },
  {
   "cell_type": "code",
   "execution_count": 4,
   "metadata": {},
   "outputs": [
    {
     "name": "stdout",
     "output_type": "stream",
     "text": [
      "4\n",
      "16\n",
      "3\n",
      "2.5\n",
      "256\n"
     ]
    }
   ],
   "source": [
    "print(1 + 3)\n",
    "print(4 * 4)\n",
    "print(5 - 2)\n",
    "print(5 / 2)\n",
    "print(4 ** 4)"
   ]
  },
  {
   "cell_type": "markdown",
   "metadata": {},
   "source": [
    "### Variables\n",
    "\n",
    "Variables act as placeholders for data.Variables help programs become much more dynamic, and allow a program to always reference a value in one spot, rather than the programmer needing to repeatedly type it out, and, worse, change it if they decide to use a different definition for it.\n",
    "\n",
    "You want to be careful what you name variables, classes, and functions, so that they do not have the same names as eachother."
   ]
  },
  {
   "cell_type": "code",
   "execution_count": 5,
   "metadata": {},
   "outputs": [
    {
     "name": "stdout",
     "output_type": "stream",
     "text": [
      "55\n",
      "Hey!\n"
     ]
    }
   ],
   "source": [
    "exampleVar = 55\n",
    "exampleStr = 'Hey!'\n",
    "print(exampleVar)\n",
    "print(exampleStr)"
   ]
  },
  {
   "cell_type": "markdown",
   "metadata": {},
   "source": [
    "### While Loop\n",
    "\n",
    "The two distinctive loops we have in Python 3 logic are the \"for loop\" and the \"while loop\". Both of them achieve very similar results, and can almost always be used interchangeably towards a goal. Generally, the for loop can be more efficient than the while loop, but not always."
   ]
  },
  {
   "cell_type": "code",
   "execution_count": 6,
   "metadata": {},
   "outputs": [
    {
     "name": "stdout",
     "output_type": "stream",
     "text": [
      "1\n",
      "2\n",
      "3\n",
      "4\n",
      "5\n",
      "6\n",
      "7\n",
      "8\n",
      "9\n"
     ]
    }
   ],
   "source": [
    "condition = 1\n",
    "while condition < 10:\n",
    "    print(condition)\n",
    "    condition += 1"
   ]
  },
  {
   "cell_type": "markdown",
   "metadata": {},
   "source": [
    "### For Loop\n",
    "\n",
    "The idea of the for loop is to \"iterate\" through something. For each thing in that something, it will do a block of code. \n",
    "\n",
    "Typically, you will see the while loop being used for finite tasks that have predetermined length, and the for loop being used for tasks that have uncertain and variable time-frames."
   ]
  },
  {
   "cell_type": "code",
   "execution_count": 7,
   "metadata": {},
   "outputs": [
    {
     "name": "stdout",
     "output_type": "stream",
     "text": [
      "1\n",
      "5\n",
      "6\n",
      "6\n",
      "2\n",
      "1\n",
      "5\n",
      "2\n",
      "1\n",
      "4\n",
      "1\n",
      "2\n",
      "3\n",
      "4\n",
      "5\n",
      "6\n",
      "7\n",
      "8\n",
      "9\n",
      "10\n"
     ]
    }
   ],
   "source": [
    "exampleList = [1, 5, 6, 6, 2, 1, 5, 2, 1, 4]\n",
    "for example in exampleList:\n",
    "    print(example)\n",
    "\n",
    "# Generator function\n",
    "for x in range(1, 11):\n",
    "    print(x)"
   ]
  },
  {
   "cell_type": "markdown",
   "metadata": {},
   "source": [
    "### If/Elif/Else Statement\n",
    "\n",
    "The idea of the if statement is to assess whether something is the case, and, if it is, then to perform the following block of code within the statement.\n",
    "\n",
    "The If-Else statement is designed to build on the if statement's logic. Here, we ask if something is the case, and, if it is we do something. Then we say otherwise, which is contingent on the previous if statement, do something else. If the previous if statement is true, then the else will not run. If the if statement is false, then the else statement will run.\n",
    "\n",
    "The elif allows us to tie multiple if statements together as we might have intended to before with multiple if statements before we learned that the else will only be contingent on the if statement above it. "
   ]
  },
  {
   "cell_type": "code",
   "execution_count": 8,
   "metadata": {},
   "outputs": [
    {
     "name": "stdout",
     "output_type": "stream",
     "text": [
      "x is less than y\n"
     ]
    }
   ],
   "source": [
    "x = 5\n",
    "y = 10\n",
    "\n",
    "if x > y:\n",
    "    print('x is greater than y')\n",
    "elif x == y:\n",
    "    print('x equals to y')\n",
    "else:\n",
    "    print('x is less than y')"
   ]
  },
  {
   "cell_type": "markdown",
   "metadata": {},
   "source": [
    "### Functions\n",
    "\n",
    "The idea of a function is to assign a set of code, and possibly variables, known as parameters, to a single bit of text. \n",
    "\n",
    "To begin a function, the keyword 'def' is used to notify python of the impending function definition, which is what def stands for. From there, you type out the name you want to call your function. It is important to choose a unique name, and also one that won't conflict with any other functions you might be using.\n",
    "\n",
    "We have to actually call this function to execute, because all we've done so far is just define the function and what it does.\n",
    "\n",
    "#### Function Parameters\n",
    "\n",
    "The idea of function parameters in Python is to allow a programmer who is using that function, define variables dynamically within that function. \n",
    "\n",
    "There is no limit to the amount of function parameters you have. If you want to just specify the definitions of these parameters without saying the parameter, like when we just said 5 and 3, instead of putting the parameter=5, then you must put them in the exact order. If you have a lot of parametrs when it might be difficult to remember their order, you could do something like `simple_addition(num2=3, num1=5)`.\n",
    "In that case, when you call the function and define the parameters, you can see how we actually defined num2 before num1, even though in the function definition we ask for them in the other way around. As long as you specify the parameter you are defining, you can jumble them up. Otherwise, you must keep them in order!\n",
    "\n",
    "#### Function Defaults\n",
    "\n",
    "We have function parameters defaults, which allow the function's creator to set 'default' values to the function parameter. This allows anyone to use a function with the default values, yet lets anyone who wishes to customize them the ability to specify different values. When using defaults, any parameters with defaults should be the last ones listed in the function's parameters."
   ]
  },
  {
   "cell_type": "code",
   "execution_count": 9,
   "metadata": {},
   "outputs": [
    {
     "name": "stdout",
     "output_type": "stream",
     "text": [
      "This code will run\n",
      "12\n",
      "num1 is 1\n",
      "3\n",
      "num1 is 5\n",
      "8\n",
      "350 500 TNR\n",
      "350 500 courier\n",
      "350 500 TNR\n"
     ]
    }
   ],
   "source": [
    "def example():\n",
    "    print('This code will run')\n",
    "    z = 3 + 9\n",
    "    print(z)\n",
    "    \n",
    "example()\n",
    "\n",
    "def simple_addition(num1, num2):\n",
    "    answer = num1 + num2\n",
    "    print('num1 is', num1)\n",
    "    print(answer)\n",
    "    \n",
    "simple_addition(1, 2)\n",
    "simple_addition(num2=3, num1=5)\n",
    "\n",
    "def simple(num1, num2=5):\n",
    "    pass\n",
    "\n",
    "def basic_window(width, height, font = 'TNR'):\n",
    "    print(width, height, font)\n",
    "basic_window(350, 500)\n",
    "basic_window(350, 500, font = 'courier')\n",
    "basic_window(width= 350, height=500)"
   ]
  },
  {
   "cell_type": "markdown",
   "metadata": {},
   "source": [
    "### Global and Local Variables\n",
    "\n",
    "These terms of global and local correspond to a variable's reach within a script or program. A global variable is one that can be accessed anywhere. A local variable is the opposite, it can only accessed within its frame. The difference is that global variables can be accessed locally, but not modified locally inherently. \n",
    "\n",
    "A local variable cannot be accessed globally, inherently. "
   ]
  },
  {
   "cell_type": "code",
   "execution_count": 10,
   "metadata": {},
   "outputs": [
    {
     "name": "stdout",
     "output_type": "stream",
     "text": [
      "6\n",
      "5\n"
     ]
    },
    {
     "ename": "NameError",
     "evalue": "name 'z' is not defined",
     "output_type": "error",
     "traceback": [
      "\u001b[0;31m---------------------------------------------------------------------------\u001b[0m",
      "\u001b[0;31mNameError\u001b[0m                                 Traceback (most recent call last)",
      "\u001b[0;32m<ipython-input-10-726cf8fdc7e7>\u001b[0m in \u001b[0;36m<module>\u001b[0;34m()\u001b[0m\n\u001b[1;32m      6\u001b[0m \u001b[0;34m\u001b[0m\u001b[0m\n\u001b[1;32m      7\u001b[0m \u001b[0mexample\u001b[0m\u001b[0;34m(\u001b[0m\u001b[0;34m)\u001b[0m\u001b[0;34m\u001b[0m\u001b[0m\n\u001b[0;32m----> 8\u001b[0;31m \u001b[0mprint\u001b[0m\u001b[0;34m(\u001b[0m\u001b[0mz\u001b[0m\u001b[0;34m)\u001b[0m\u001b[0;34m\u001b[0m\u001b[0m\n\u001b[0m",
      "\u001b[0;31mNameError\u001b[0m: name 'z' is not defined"
     ]
    }
   ],
   "source": [
    "x = 6\n",
    "def example():\n",
    "    print(x)\n",
    "    z = 5\n",
    "    print(z)\n",
    "    \n",
    "example()\n",
    "print(z)"
   ]
  },
  {
   "cell_type": "markdown",
   "metadata": {},
   "source": [
    "Here, we can see that we are able to access the x variable. We then defined and print out the z variable. We can then call the function, and all seems well. When you go to reference the z variable however, we have trouble. The z variable is local to the example function."
   ]
  },
  {
   "cell_type": "code",
   "execution_count": 11,
   "metadata": {},
   "outputs": [
    {
     "ename": "UnboundLocalError",
     "evalue": "local variable 'x' referenced before assignment",
     "output_type": "error",
     "traceback": [
      "\u001b[0;31m---------------------------------------------------------------------------\u001b[0m",
      "\u001b[0;31mUnboundLocalError\u001b[0m                         Traceback (most recent call last)",
      "\u001b[0;32m<ipython-input-11-9c4e3ec704a4>\u001b[0m in \u001b[0;36m<module>\u001b[0;34m()\u001b[0m\n\u001b[1;32m      5\u001b[0m     \u001b[0mx\u001b[0m \u001b[0;34m+=\u001b[0m \u001b[0;36m6\u001b[0m\u001b[0;34m\u001b[0m\u001b[0m\n\u001b[1;32m      6\u001b[0m \u001b[0;34m\u001b[0m\u001b[0m\n\u001b[0;32m----> 7\u001b[0;31m \u001b[0mexample2\u001b[0m\u001b[0;34m(\u001b[0m\u001b[0;34m)\u001b[0m\u001b[0;34m\u001b[0m\u001b[0m\n\u001b[0m\u001b[1;32m      8\u001b[0m \u001b[0mprint\u001b[0m\u001b[0;34m(\u001b[0m\u001b[0mx\u001b[0m\u001b[0;34m)\u001b[0m\u001b[0;34m\u001b[0m\u001b[0m\n",
      "\u001b[0;32m<ipython-input-11-9c4e3ec704a4>\u001b[0m in \u001b[0;36mexample2\u001b[0;34m()\u001b[0m\n\u001b[1;32m      1\u001b[0m \u001b[0mx\u001b[0m \u001b[0;34m=\u001b[0m \u001b[0;36m6\u001b[0m\u001b[0;34m\u001b[0m\u001b[0m\n\u001b[1;32m      2\u001b[0m \u001b[0;32mdef\u001b[0m \u001b[0mexample2\u001b[0m\u001b[0;34m(\u001b[0m\u001b[0;34m)\u001b[0m\u001b[0;34m:\u001b[0m\u001b[0;34m\u001b[0m\u001b[0m\n\u001b[0;32m----> 3\u001b[0;31m     \u001b[0mprint\u001b[0m\u001b[0;34m(\u001b[0m\u001b[0mx\u001b[0m\u001b[0;34m)\u001b[0m\u001b[0;34m\u001b[0m\u001b[0m\n\u001b[0m\u001b[1;32m      4\u001b[0m     \u001b[0mprint\u001b[0m\u001b[0;34m(\u001b[0m\u001b[0mx\u001b[0m \u001b[0;34m+\u001b[0m \u001b[0;36m5\u001b[0m\u001b[0;34m)\u001b[0m\u001b[0;34m\u001b[0m\u001b[0m\n\u001b[1;32m      5\u001b[0m     \u001b[0mx\u001b[0m \u001b[0;34m+=\u001b[0m \u001b[0;36m6\u001b[0m\u001b[0;34m\u001b[0m\u001b[0m\n",
      "\u001b[0;31mUnboundLocalError\u001b[0m: local variable 'x' referenced before assignment"
     ]
    }
   ],
   "source": [
    "x = 6\n",
    "def example2():\n",
    "    print(x)\n",
    "    print(x + 5)\n",
    "    x += 6\n",
    "    \n",
    "example2()\n",
    "print(x)"
   ]
  },
  {
   "cell_type": "code",
   "execution_count": 12,
   "metadata": {},
   "outputs": [
    {
     "name": "stdout",
     "output_type": "stream",
     "text": [
      "6\n",
      "11\n",
      "11\n"
     ]
    }
   ],
   "source": [
    "x = 6\n",
    "\n",
    "def example3():\n",
    "    global x\n",
    "    print(x)\n",
    "    x += 5\n",
    "    print(x)\n",
    "example3()\n",
    "print(x)"
   ]
  },
  {
   "cell_type": "code",
   "execution_count": 13,
   "metadata": {},
   "outputs": [
    {
     "name": "stdout",
     "output_type": "stream",
     "text": [
      "6\n",
      "11\n"
     ]
    }
   ],
   "source": [
    "x = 6\n",
    "\n",
    "def example4():\n",
    "    globx = x\n",
    "    print(globx)\n",
    "    globx += 5\n",
    "    print(globx)\n",
    "\n",
    "example4()"
   ]
  },
  {
   "cell_type": "code",
   "execution_count": 14,
   "metadata": {},
   "outputs": [
    {
     "name": "stdout",
     "output_type": "stream",
     "text": [
      "6\n",
      "11\n",
      "11\n"
     ]
    }
   ],
   "source": [
    "x = 6\n",
    "def example5(x):\n",
    "    print(x)\n",
    "    x += 5\n",
    "    print(x)\n",
    "    return x\n",
    "x = example5(x)\n",
    "print(x)"
   ]
  },
  {
   "cell_type": "markdown",
   "metadata": {},
   "source": [
    "So, you can better visualize this function as a \"modification\" function, where it modifies the variable you pass through. Besides the definition of this function, you only need to reassign the variable you went to change as the function with that variable as the parameter."
   ]
  },
  {
   "cell_type": "markdown",
   "metadata": {},
   "source": [
    "### Common Errors\n",
    "\n",
    "1. NameError: is not defined\n",
    "2. Indentation issues: expected an indented block\n",
    "3. SyntaxError: EOL while scanning string literal"
   ]
  },
  {
   "cell_type": "markdown",
   "metadata": {},
   "source": [
    "### File Writing\n",
    "\n",
    "It should be noted that there are two methods for saving data to a file, and those are writing and appending. Writing to a file will write that bit of data, whatever it is, solely, to the file. This means if there was anything there before, it will be gone if you use write.\n",
    "\n",
    "If you use append, then you will basically add to whatever is previous there. That said, when you actually go to add to the file, you will still use \".write\". You only specify that you will be appending instead of writing when you open the fle and specify your intentions.\n",
    "\n",
    "### File Reading\n",
    "\n",
    "Now that we know how to write and append to files, we might want to learn how to read data from files into the Python program. Doing this is quite simple, and has very similar syntax.\n",
    "\n",
    "Often times, people are reading something with many lines into memory. Maybe it's a list of names, or something like that. We can then use \".readlines()\" to help us split all of this up into a Python list for us."
   ]
  },
  {
   "cell_type": "code",
   "execution_count": 15,
   "metadata": {},
   "outputs": [
    {
     "name": "stdout",
     "output_type": "stream",
     "text": [
      "Sample Text to Save\n",
      "New line!\n",
      "New bit of information\n",
      "['Sample Text to Save\\n', 'New line!\\n', 'New bit of information']\n"
     ]
    }
   ],
   "source": [
    "text = 'Sample Text to Save\\nNew line!'\n",
    "saveFile = open('exampleFile.txt', 'w')\n",
    "saveFile.write(text)\n",
    "saveFile.close()\n",
    "\n",
    "appendMe = '\\nNew bit of information'\n",
    "appendFile = open('exampleFile.txt', 'a')\n",
    "appendFile.write(appendMe)\n",
    "appendFile.close()\n",
    "\n",
    "readMe = open('exampleFile.txt', 'r').read()\n",
    "print(readMe)\n",
    "\n",
    "readMe = open('exampleFile.txt', 'r').readlines()\n",
    "print(readMe)"
   ]
  },
  {
   "cell_type": "markdown",
   "metadata": {},
   "source": [
    "### Classes\n",
    "\n",
    "Classes are the backbone to Object Oriented Programming, or OOP. As you get comfortable with Python, classes can become an absolutely integral part of our programs."
   ]
  },
  {
   "cell_type": "code",
   "execution_count": 16,
   "metadata": {},
   "outputs": [
    {
     "name": "stdout",
     "output_type": "stream",
     "text": [
      "-3\n",
      "15\n",
      "1.6666666666666667\n",
      "7\n"
     ]
    }
   ],
   "source": [
    "class calculator(object):\n",
    "    def addition(x, y):\n",
    "        added = x + y\n",
    "        print(added)\n",
    "    \n",
    "    def subtraction(x, y):\n",
    "        sub = x - y\n",
    "        print(sub)\n",
    "        \n",
    "    def multiplication(x, y):\n",
    "        mult = x * y\n",
    "        print(mult)\n",
    "        \n",
    "    def division(x, y):\n",
    "        div = x / y\n",
    "        print(div)\n",
    "\n",
    "calculator.subtraction(5, 8)\n",
    "calculator.multiplication(3, 5)\n",
    "calculator.division(5, 3)\n",
    "calculator.addition(5, 2)"
   ]
  },
  {
   "cell_type": "markdown",
   "metadata": {},
   "source": [
    "#### name == main\n",
    "\n",
    "`if __name__ == '__main__':`\n",
    "\n",
    "This asks whether or not the script is the \"main\" running script, or if that script is just being referenced by another script. Whenever you import other people's code, they usually have these there, so that, when you import them, their code doesn't just automatically run.\n",
    "\n",
    "#### shebang line\n",
    "\n",
    "`#! /usr/bin/python`\n",
    "\n",
    "It is used for Unix operating systems so the script will execute with Python\n"
   ]
  },
  {
   "cell_type": "markdown",
   "metadata": {},
   "source": [
    "### User Input\n",
    "\n",
    "For a simple text-based GUI(graphical user interface), it can sometimes be useful to allow for a user to enter some input into the program while it runs."
   ]
  },
  {
   "cell_type": "code",
   "execution_count": 17,
   "metadata": {},
   "outputs": [
    {
     "name": "stdout",
     "output_type": "stream",
     "text": [
      "What is your name?: Jose\n",
      "Hello Jose\n"
     ]
    }
   ],
   "source": [
    "x = input('What is your name?: ')\n",
    "print('Hello', x)"
   ]
  },
  {
   "cell_type": "markdown",
   "metadata": {},
   "source": [
    "### Statistics Module\n",
    "\n",
    "Since Python is such a popular programming language for data analysis, it only makes sense that it comes with a statistics module. The statistics module comes with an assortment of goodies: Mean, median, mode, standard deviation, and variance.\n",
    "\n",
    "These are all fairly straight forward to use:"
   ]
  },
  {
   "cell_type": "code",
   "execution_count": 18,
   "metadata": {},
   "outputs": [
    {
     "name": "stdout",
     "output_type": "stream",
     "text": [
      "4.230769230769231\n",
      "5\n",
      "5\n",
      "1.9644272343292228\n",
      "3.858974358974359\n"
     ]
    }
   ],
   "source": [
    "import statistics\n",
    "\n",
    "example_list = [5, 2, 5, 6, 1, 2, 6, 7, 2, 6, 3, 5, 5]\n",
    "\n",
    "x = statistics.mean(example_list)\n",
    "print(x)\n",
    "\n",
    "y = statistics.median(example_list)\n",
    "print(y)\n",
    "\n",
    "z = statistics.mode(example_list)\n",
    "print(z)\n",
    "\n",
    "a = statistics.stdev(example_list)\n",
    "print(a)\n",
    "\n",
    "b = statistics.variance(example_list)\n",
    "print(b)"
   ]
  },
  {
   "cell_type": "markdown",
   "metadata": {},
   "source": [
    "### Module Import Syntax\n",
    "\n",
    "`import statistics`\n",
    "\n",
    "Above, we have referenced the statistics module and loaded it into memory under the statistics object. This will allow us to reference any of the functions within the statistics module. To do so, we will need to mention statistics, followed by a period, then the function name. \n",
    "\n",
    "That is the simplest way to import and use modules, but there are many other methods. Sometimes, however, you will see people use the \"as\" statement in their imports. This will allow you to basically rename the module to whatever you want. People generally do this to shorten the name of the module. *Matplotlib.pyplot* is ofen imported as *plt* and *numpy* is often imported as *np*, for example.\n",
    "\n",
    "You can also just import each function within the module you plan to use. You can see that we no longer had to type any reference to the statistics module, then you saw that we could even import the functions \"as\" something else.\n",
    "\n",
    "What if we want to just import everything from statistics like we did initially, but we don't want to type the statistics because we have fat fingers and this will just slow us down?"
   ]
  },
  {
   "cell_type": "code",
   "execution_count": 19,
   "metadata": {},
   "outputs": [
    {
     "name": "stdout",
     "output_type": "stream",
     "text": [
      "4.230769230769231\n",
      "5\n",
      "4.230769230769231\n",
      "4.230769230769231\n",
      "5\n",
      "4.230769230769231\n"
     ]
    }
   ],
   "source": [
    "import statistics as s\n",
    "\n",
    "print(s.mean(example_list))\n",
    "\n",
    "from statistics import mean, median\n",
    "print(median(example_list))\n",
    "print(mean(example_list))\n",
    "\n",
    "from statistics import mean as m, median as d\n",
    "print(m(example_list))\n",
    "print(d(example_list))\n",
    "\n",
    "from statistics import *\n",
    "print(mean(example_list))"
   ]
  },
  {
   "cell_type": "markdown",
   "metadata": {},
   "source": [
    "### Making Modules\n",
    "\n",
    "Modules are just Python scripts that are stored in your Lib or Lib/site-packages folder, or local to the script being run. The installation of *most* modules is simply the moving of the module's files into these directories. \n",
    "\n",
    "Let us create a module called *examplemod.py* and within it is just the following: <br/>\n",
    "*def ex(data): <br/>\n",
    "    print(data)*\n",
    "\n",
    "Now, we just need to import and use that. <br/>\n",
    "*import examplemod <br/>\n",
    "examplemod.ex('text')*\n",
    "\n",
    "To do this, the *examplemod.py* file must be in the same directory as your running-program, or in your Python packages directory. If you are on a Windows machine, this will be C:/python34/Lib/site_packages/\n",
    "\n",
    "Python modules are just simple scripts, sometimes they are \"packages\" where there are many scripts within a folder, but this is still all it is."
   ]
  },
  {
   "cell_type": "markdown",
   "metadata": {},
   "source": [
    "### Python Lists vs Tuples\n",
    "\n",
    "#### Tuples\n",
    "A tuple is an assortment of data, separated by commas, which makes it similar to the Python list, but a tuple is fundamentally different in that a tuple is \"immutable\". This means that it cannot by changed, modified, or manipulated. A tuple is typically used specifically because of this property. A popular use for this is sequence unpacking, where we want to store returned data to some specified variables. \n",
    "\n",
    "If you notice, the tuple had no brackets around it at all. If there are no encasing brackets or braces of any type, then Python will recognize the data as a tuple. Tuples also can have curved brakets like \"(\" or \")\".\n",
    "\n",
    "#### Lists\n",
    "\n",
    "Next, we have the far more popular Python list. To define a list, we use square brackets. A Python list acts very much like an array in other languages like php. Keep in mind that lists are mutable, and using these functions change the list.\n",
    "\n",
    "#### List Manipulation\n",
    "\n",
    "Here are some examples of list manipulation:\n",
    "\n",
    "Since lists are mutable, this means that we will be using lists for things where we might intend to manipulate the list of data, so how can we do that?\n",
    "\n",
    "We can add, remove, count, sort, search, and do quite a few other things to python lists.\n",
    "\n",
    "#### Multi-dimensional Lists\n",
    "\n",
    "You can have lists within lists within lists if you want.\n"
   ]
  },
  {
   "cell_type": "code",
   "execution_count": 20,
   "metadata": {},
   "outputs": [
    {
     "name": "stdout",
     "output_type": "stream",
     "text": [
      "15 12\n",
      "[1, 3, 5, 6, 2, 1, 6]\n",
      "1 3\n",
      "[1, 3, 5, 6, 2, 1, 6, 55]\n",
      "[1, 3, 33, 5, 6, 2, 1, 6, 55]\n",
      "[1, 3, 33, 5, 2, 1, 6, 55]\n",
      "1\n",
      "0\n",
      "2\n",
      "[1, 1, 2, 3, 5, 6, 33, 55]\n",
      "['Alice', 'Bob', 'Dan', 'Jack', 'Jan', 'Jon']\n",
      "['Jon', 'Jan', 'Jack', 'Dan', 'Bob', 'Alice']\n",
      "[8, 2]\n",
      "2\n"
     ]
    }
   ],
   "source": [
    "def example():\n",
    "    return 15, 12\n",
    "x,y = example()\n",
    "print(x, y)\n",
    "\n",
    "x = [1, 3, 5, 6, 2, 1, 6]\n",
    "print(x)\n",
    "print(x[0], x[1])\n",
    "\n",
    "# append to List: add something to the end of the list\n",
    "x.append(55)\n",
    "print(x)\n",
    "\n",
    "# Put something in a list at an exact place, instead of just at the very end\n",
    "x.insert(2, 33)\n",
    "print(x)\n",
    "\n",
    "# Remove the first instance of the value in the list. If it donesn't exist, there will be an error.\n",
    "x.remove(6)\n",
    "print(x)\n",
    "\n",
    "# Reference an item by index in a list\n",
    "print(x[5])\n",
    "\n",
    "# Search for the index, the first occurance\n",
    "print(x.index(1))\n",
    "\n",
    "# Count for occurance of an item\n",
    "print(x.count(1))\n",
    "\n",
    "# Sort the list\n",
    "x.sort()\n",
    "print(x)\n",
    "\n",
    "# Sort strings\n",
    "y = ['Jan', 'Dan', 'Bob', 'Alice', 'Jon', 'Jack']\n",
    "y.sort()\n",
    "print(y)\n",
    "y.reverse()\n",
    "print(y)\n",
    "\n",
    "# Multi-dimensional lists\n",
    "x = [[2, 6], [6, 2], [8, 2], [5, 12]]\n",
    "print(x[2])\n",
    "# We can also take this deeper since we have more dimension now\n",
    "print(x[2][1])"
   ]
  },
  {
   "cell_type": "markdown",
   "metadata": {},
   "source": [
    "### Reading CSV\n",
    "\n",
    "We use csv module to read CSV data in from a file. CSV literally stands for comma separated variable, where the comma is what is known as a \"delimiter\". While you can also just simply use Python's split() function, to separate lines and data within each line, the CSV module can also be used to make things easy.\n",
    "\n",
    "Next, we will show how to pull out specific data from the spreadsheet and save it to a list variable."
   ]
  },
  {
   "cell_type": "code",
   "execution_count": 21,
   "metadata": {},
   "outputs": [
    {
     "name": "stdout",
     "output_type": "stream",
     "text": [
      "['1/2/2014', '5', '8', 'red']\n",
      "1/2/2014\n",
      "1/2/2014 5 8\n",
      "['1/3/2014', '5', '2', 'green']\n",
      "1/3/2014\n",
      "1/3/2014 5 2\n",
      "['1/4/2014', '9', '1', 'blue']\n",
      "1/4/2014\n",
      "1/4/2014 9 1\n",
      "['1/2/2014', '1/3/2014', '1/4/2014']\n",
      "['red', 'green', 'blue']\n",
      "What color do you wish to know the date of?: blue\n",
      "The date of blue is: 1/4/2014\n"
     ]
    }
   ],
   "source": [
    "import csv\n",
    "\n",
    "with open('example.csv') as csvfile:\n",
    "    readCSV = csv.reader(csvfile, delimiter = ',')\n",
    "    dates = []\n",
    "    colors = []\n",
    "    for row in readCSV:\n",
    "        print(row)\n",
    "        print(row[0])\n",
    "        print(row[0], row[1], row[2])\n",
    "        color = row[3]\n",
    "        date = row[0]\n",
    "        dates.append(date)\n",
    "        colors.append(color)\n",
    "    print(dates)\n",
    "    print(colors)\n",
    "    \n",
    "    whatColor = input('What color do you wish to know the date of?: ')\n",
    "    coldex = colors.index(whatColor)\n",
    "    theDate = dates[coldex]\n",
    "    print('The date of', whatColor, 'is:', theDate)\n"
   ]
  },
  {
   "cell_type": "markdown",
   "metadata": {},
   "source": [
    "### Try and Except Error Handling\n",
    "\n",
    "These statements work similarly to the if-else, where if the Try runs, the except will not run. If the Try fails, then the exception will run with the error that was just generated in the try. Try and Except is mainly used to handle failures in code, which result in errors. With handling exceptions, you can keep your code running when it would otherwise grind to a catastrophic halt from an error. You can also use error handling to log problems in your code, or to even attempt to remedy the problem as a part of program."
   ]
  },
  {
   "cell_type": "code",
   "execution_count": 22,
   "metadata": {},
   "outputs": [
    {
     "name": "stdout",
     "output_type": "stream",
     "text": [
      "['1/2/2014', '5', '8', 'red']\n",
      "1/2/2014\n",
      "1/2/2014 5 8\n",
      "['1/3/2014', '5', '2', 'green']\n",
      "1/3/2014\n",
      "1/3/2014 5 2\n",
      "['1/4/2014', '9', '1', 'blue']\n",
      "1/4/2014\n",
      "1/4/2014 9 1\n",
      "['1/2/2014', '1/3/2014', '1/4/2014']\n",
      "['red', 'green', 'blue']\n",
      "What color do you wish to know the date of?:ii\n",
      "'ii' is not in list\n",
      "Still Running Though\n"
     ]
    }
   ],
   "source": [
    "import csv\n",
    "\n",
    "with open('example.csv') as csvfile:\n",
    "    readCSV = csv.reader(csvfile, delimiter = ',')\n",
    "    dates = []\n",
    "    colors = []\n",
    "    for row in readCSV:\n",
    "        print(row)\n",
    "        print(row[0])\n",
    "        print(row[0], row[1], row[2])\n",
    "        color = row[3]\n",
    "        date = row[0]\n",
    "        dates.append(date)\n",
    "        colors.append(color)\n",
    "    print(dates)\n",
    "    print(colors)\n",
    "    \n",
    "    try:\n",
    "        whatColor = input('What color do you wish to know the date of?:')\n",
    "        coldex = colors.index(whatColor)\n",
    "        theDate = dates[coldex]\n",
    "        print('The date of', whatColor, 'is:', theDate)\n",
    "    except Exception as e:\n",
    "        print(e)\n",
    "    print('Still Running Though')"
   ]
  },
  {
   "cell_type": "code",
   "execution_count": 23,
   "metadata": {},
   "outputs": [
    {
     "name": "stdout",
     "output_type": "stream",
     "text": [
      "['1/2/2014', '5', '8', 'red']\n",
      "1/2/2014\n",
      "1/2/2014 5 8\n",
      "['1/3/2014', '5', '2', 'green']\n",
      "1/3/2014\n",
      "1/3/2014 5 2\n",
      "['1/4/2014', '9', '1', 'blue']\n",
      "1/4/2014\n",
      "1/4/2014 9 1\n",
      "['1/2/2014', '1/3/2014', '1/4/2014']\n",
      "['red', 'green', 'blue']\n",
      "What color do you wish to know the date of?:ii\n",
      "This color was not found\n",
      "Still Running Though\n"
     ]
    }
   ],
   "source": [
    "import csv\n",
    "\n",
    "with open('example.csv') as csvfile:\n",
    "    readCSV = csv.reader(csvfile, delimiter = ',')\n",
    "    dates = []\n",
    "    colors = []\n",
    "    for row in readCSV:\n",
    "        print(row)\n",
    "        print(row[0])\n",
    "        print(row[0], row[1], row[2])\n",
    "        color = row[3]\n",
    "        date = row[0]\n",
    "        dates.append(date)\n",
    "        colors.append(color)\n",
    "    print(dates)\n",
    "    print(colors)\n",
    "    \n",
    "    try:\n",
    "        whatColor = input('What color do you wish to know the date of?:')\n",
    "        if whatColor in colors:\n",
    "            coldex = colors.index(whatColor)\n",
    "            theDate = dates[coldex]\n",
    "            print('The date of', whatColor, 'is:', theDate)\n",
    "        else:\n",
    "            print('This color was not found')\n",
    "    except Exception as e:\n",
    "        print(e)\n",
    "    print('Still Running Though')"
   ]
  },
  {
   "cell_type": "markdown",
   "metadata": {},
   "source": [
    "### Multi-line Print\n",
    "\n",
    "The idea of multi-line printing in Python is to be able to easily print across multiple lines, while only using 1 print function, while also printing out exactly what you intend. Sometimes, when making something like a text-based graphical user interface, it can be quite tedious and challenging to make everthing line up for you. This is where multi-line printing can be very useful."
   ]
  },
  {
   "cell_type": "code",
   "execution_count": 24,
   "metadata": {},
   "outputs": [
    {
     "name": "stdout",
     "output_type": "stream",
     "text": [
      "\n",
      "This\n",
      "is\n",
      "a\n",
      "test\n",
      "\n",
      "\n",
      "So it works like a multi-line\n",
      "comment, but it will print out.\n",
      "\n",
      "You can make cool designs like this:\n",
      "=======================\n",
      "|                      |\n",
      "|                      |\n",
      "|         Box          |\n",
      "|                      |\n",
      "|                      |\n",
      "=======================\n",
      "\n"
     ]
    }
   ],
   "source": [
    "print(\n",
    "'''\n",
    "This\n",
    "is\n",
    "a\n",
    "test\n",
    "'''\n",
    ")\n",
    "\n",
    "print(\n",
    "'''\n",
    "So it works like a multi-line\n",
    "comment, but it will print out.\n",
    "\n",
    "You can make cool designs like this:\n",
    "=======================\n",
    "|                      |\n",
    "|                      |\n",
    "|         Box          |\n",
    "|                      |\n",
    "|                      |\n",
    "=======================\n",
    "'''\n",
    ")"
   ]
  },
  {
   "cell_type": "markdown",
   "metadata": {},
   "source": [
    "### Python Dictionaries\n",
    "\n",
    "Dictionaries are a data structure in Python that are very similar to associative arrays. They are non-ordered and contain 'keys' and 'values'. Each key is unique and the values can be just abount anything, but usually they are string, int, or float, or a list of these things.\n",
    "\n",
    "Dictionaries are defined with {} curly braces."
   ]
  },
  {
   "cell_type": "code",
   "execution_count": 25,
   "metadata": {},
   "outputs": [
    {
     "name": "stdout",
     "output_type": "stream",
     "text": [
      "{'Jack': 15, 'Bob': 22, 'Alice': 12, 'Kevin': 17}\n",
      "15\n",
      "{'Jack': 15, 'Bob': 22, 'Alice': 12, 'Kevin': 17, 'Tim': 14}\n",
      "{'Jack': 15, 'Bob': 22, 'Alice': 12, 'Kevin': 17, 'Tim': 15}\n",
      "{'Jack': 15, 'Bob': 22, 'Alice': 12, 'Kevin': 17}\n"
     ]
    }
   ],
   "source": [
    "exDict = {'Jack': 15, 'Bob': 22, 'Alice': 12, 'Kevin': 17}\n",
    "print(exDict)\n",
    "print(exDict['Jack'])\n",
    "exDict['Tim'] = 14\n",
    "print(exDict)\n",
    "exDict['Tim'] = 15\n",
    "print(exDict)\n",
    "del exDict['Tim']\n",
    "print(exDict)"
   ]
  },
  {
   "cell_type": "markdown",
   "metadata": {},
   "source": [
    "### Built-in Functions\n",
    "\n",
    "1. Absolute Values: abs()\n",
    "2. The Help Function: help()\n",
    "3. Max and Min: max(), min()\n",
    "4. Rounding: round to the nearest whole\n",
    "5. Converting data types: convert string to an integer, convert an integer to a string, convert an integer to a float,"
   ]
  },
  {
   "cell_type": "code",
   "execution_count": 26,
   "metadata": {},
   "outputs": [
    {
     "name": "stdout",
     "output_type": "stream",
     "text": [
      "5\n",
      "True!\n",
      "Help on class list in module builtins:\n",
      "\n",
      "class list(object)\n",
      " |  list() -> new empty list\n",
      " |  list(iterable) -> new list initialized from iterable's items\n",
      " |  \n",
      " |  Methods defined here:\n",
      " |  \n",
      " |  __add__(self, value, /)\n",
      " |      Return self+value.\n",
      " |  \n",
      " |  __contains__(self, key, /)\n",
      " |      Return key in self.\n",
      " |  \n",
      " |  __delitem__(self, key, /)\n",
      " |      Delete self[key].\n",
      " |  \n",
      " |  __eq__(self, value, /)\n",
      " |      Return self==value.\n",
      " |  \n",
      " |  __ge__(self, value, /)\n",
      " |      Return self>=value.\n",
      " |  \n",
      " |  __getattribute__(self, name, /)\n",
      " |      Return getattr(self, name).\n",
      " |  \n",
      " |  __getitem__(...)\n",
      " |      x.__getitem__(y) <==> x[y]\n",
      " |  \n",
      " |  __gt__(self, value, /)\n",
      " |      Return self>value.\n",
      " |  \n",
      " |  __iadd__(self, value, /)\n",
      " |      Implement self+=value.\n",
      " |  \n",
      " |  __imul__(self, value, /)\n",
      " |      Implement self*=value.\n",
      " |  \n",
      " |  __init__(self, /, *args, **kwargs)\n",
      " |      Initialize self.  See help(type(self)) for accurate signature.\n",
      " |  \n",
      " |  __iter__(self, /)\n",
      " |      Implement iter(self).\n",
      " |  \n",
      " |  __le__(self, value, /)\n",
      " |      Return self<=value.\n",
      " |  \n",
      " |  __len__(self, /)\n",
      " |      Return len(self).\n",
      " |  \n",
      " |  __lt__(self, value, /)\n",
      " |      Return self<value.\n",
      " |  \n",
      " |  __mul__(self, value, /)\n",
      " |      Return self*value.n\n",
      " |  \n",
      " |  __ne__(self, value, /)\n",
      " |      Return self!=value.\n",
      " |  \n",
      " |  __new__(*args, **kwargs) from builtins.type\n",
      " |      Create and return a new object.  See help(type) for accurate signature.\n",
      " |  \n",
      " |  __repr__(self, /)\n",
      " |      Return repr(self).\n",
      " |  \n",
      " |  __reversed__(...)\n",
      " |      L.__reversed__() -- return a reverse iterator over the list\n",
      " |  \n",
      " |  __rmul__(self, value, /)\n",
      " |      Return self*value.\n",
      " |  \n",
      " |  __setitem__(self, key, value, /)\n",
      " |      Set self[key] to value.\n",
      " |  \n",
      " |  __sizeof__(...)\n",
      " |      L.__sizeof__() -- size of L in memory, in bytes\n",
      " |  \n",
      " |  append(...)\n",
      " |      L.append(object) -> None -- append object to end\n",
      " |  \n",
      " |  clear(...)\n",
      " |      L.clear() -> None -- remove all items from L\n",
      " |  \n",
      " |  copy(...)\n",
      " |      L.copy() -> list -- a shallow copy of L\n",
      " |  \n",
      " |  count(...)\n",
      " |      L.count(value) -> integer -- return number of occurrences of value\n",
      " |  \n",
      " |  extend(...)\n",
      " |      L.extend(iterable) -> None -- extend list by appending elements from the iterable\n",
      " |  \n",
      " |  index(...)\n",
      " |      L.index(value, [start, [stop]]) -> integer -- return first index of value.\n",
      " |      Raises ValueError if the value is not present.\n",
      " |  \n",
      " |  insert(...)\n",
      " |      L.insert(index, object) -- insert object before index\n",
      " |  \n",
      " |  pop(...)\n",
      " |      L.pop([index]) -> item -- remove and return item at index (default last).\n",
      " |      Raises IndexError if list is empty or index is out of range.\n",
      " |  \n",
      " |  remove(...)\n",
      " |      L.remove(value) -> None -- remove first occurrence of value.\n",
      " |      Raises ValueError if the value is not present.\n",
      " |  \n",
      " |  reverse(...)\n",
      " |      L.reverse() -- reverse *IN PLACE*\n",
      " |  \n",
      " |  sort(...)\n",
      " |      L.sort(key=None, reverse=False) -> None -- stable sort *IN PLACE*\n",
      " |  \n",
      " |  ----------------------------------------------------------------------\n",
      " |  Data and other attributes defined here:\n",
      " |  \n",
      " |  __hash__ = None\n",
      "\n",
      "7\n",
      "1\n",
      "6\n",
      "5\n",
      "55\n",
      "55\n",
      "55.0\n"
     ]
    }
   ],
   "source": [
    "exNum1 = -5\n",
    "exNum2 = 5\n",
    "print(abs(exNum1))\n",
    "if abs(exNum1) == exNum2:\n",
    "    print('True!')\n",
    "help(list)\n",
    "\n",
    "exList = [5, 2, 1, 6, 7]\n",
    "largest = max(exList)\n",
    "print(largest)\n",
    "smallest = min(exList)\n",
    "print(smallest)\n",
    "\n",
    "x = 5.622\n",
    "x = round(x)\n",
    "print(x)\n",
    "\n",
    "y = 5.256\n",
    "y = round(y)\n",
    "print(y)\n",
    "\n",
    "# Convert a string to an integer:\n",
    "intMe = '55'\n",
    "intMe = int(intMe)\n",
    "print(intMe)\n",
    "\n",
    "# Convert an integer to a string:\n",
    "stringMe = 55\n",
    "stringMe = str(stringMe)\n",
    "print(stringMe)\n",
    "\n",
    "# Convert an integer to a float:\n",
    "floatMe = 55\n",
    "floatMe = float(floatMe)\n",
    "print(floatMe)"
   ]
  },
  {
   "cell_type": "markdown",
   "metadata": {},
   "source": [
    "### OS Module\n",
    "\n",
    "The main purpose of the OS module is to interact with your operating system. The primary use for it is to create folders, remove folders, move folders, and sometimes change the working directory. You can also access the names of files within a file path by doing listdir().\n",
    "\n",
    "The os module is a part of the standard library, or stdlib, within Python 3. This means that it comes with your Python installation, but you still must import it."
   ]
  },
  {
   "cell_type": "code",
   "execution_count": 29,
   "metadata": {},
   "outputs": [
    {
     "name": "stdout",
     "output_type": "stream",
     "text": [
      "/Users/jose/Desktop/jupyter_demo\n"
     ]
    }
   ],
   "source": [
    "import os\n",
    "\n",
    "curDir = os.getcwd()\n",
    "print(curDir)\n",
    "os.mkdir('newDir')\n",
    "os.rename('newDir', 'newDir2')\n",
    "os.rmdir('newDir2')"
   ]
  },
  {
   "cell_type": "markdown",
   "metadata": {},
   "source": [
    "### Sys Module\n",
    "\n",
    "The sys module allows you to use stdin() and stdou(), as well as stderr(), but, most interestingly, we can utilize sys.argv(). The idea of sys.argv is to allow you to pass arguments through to Python from the command line.\n",
    "\n",
    "This ability acts as a bridge to the ability to communicate between Python and other languages, which can then communicate back through the shell to ineract.\n",
    "\n",
    "With stdout and stdin, we can pass messages and errors through the command line, or just use it for logging purposes.\n",
    "\n",
    "Argv allows you to pass through arguments from the shell to your Python script or program. You will get an error if you run this without some arguments from the shell. You can always put an if-statement that asks whether sys.argv has a length greater than one. "
   ]
  },
  {
   "cell_type": "code",
   "execution_count": 30,
   "metadata": {},
   "outputs": [
    {
     "name": "stderr",
     "output_type": "stream",
     "text": [
      "This is stderr text\n"
     ]
    },
    {
     "name": "stdout",
     "output_type": "stream",
     "text": [
      "This is stdout text\n",
      "-f\n"
     ]
    }
   ],
   "source": [
    "import sys\n",
    "\n",
    "sys.stderr.write('This is stderr text\\n')\n",
    "sys.stderr.flush()\n",
    "sys.stdout.write('This is stdout text\\n')\n",
    "\n",
    "def main(arg):\n",
    "    print(arg)\n",
    "\n",
    "main(sys.argv[1])"
   ]
  },
  {
   "cell_type": "markdown",
   "metadata": {},
   "source": [
    "### urllib module\n",
    "\n",
    "The urllib module in Python 3 allows you access websites via your program. This opens up as many doors for your programs as the internet opens ups for you. Through urllib, you can access websites, download data, parse data, modify your headers, and do any GET and POST requests you might need to do.\n",
    "\n",
    "Soon, we'll be using regular expressions to clean up the result. The problem is web pages use all sorts of HTML, CSS, and javascript to make webpages appealing to the eye. Our programs really just don't care what the website looks like. We just want the text usually, so we need to get rid of all of the fluff. To do that, regular expressions become pretty useful, so we'll head there soon, after covering regex.\n",
    "\n",
    "Next, sometimes, we want to put in values, or GET/POST, from/to a URL. There are two methods of data transfer with urls, and they are GET and POST. The natural moethod is a GET request, which means you make a request and you get data. The other is POST, where you send data into the server, like you post some data, and you get a request based on the post.\n",
    "\n",
    "If you are using the default python user-agent with urllib, then you are announcing yourself as Python-urllib/3.4, if your Python version is 3.4. This is either foreign to the website, or they will just block it entirely. A work around for this is to just identify yourself as something else entirely."
   ]
  },
  {
   "cell_type": "code",
   "execution_count": 38,
   "metadata": {},
   "outputs": [
    {
     "name": "stdout",
     "output_type": "stream",
     "text": [
      "b'<!doctype html><html itemscope=\"\" itemtype=\"http://schema.org/WebPage\" lang=\"zh-HK\"><head><meta content=\"text/html; charset=UTF-8\" http-equiv=\"Content-Type\"><meta content=\"/images/branding/googleg/1x/googleg_standard_color_128dp.png\" itemprop=\"image\"><title>Google</title><script nonce=\"4bALFYXCEzn12TG48WWH1w==\">(function(){window.google={kEI:\\'8ukAW66qCMWi0gT2sLywBg\\',kEXPI:\\'0,18167,1335580,57,1111,542,304,1018,38,402,107,76,939,280,78,616,12,14,68,12,130,66,8,81,2340356,253,174,32,302989,26305,1294,12383,2349,2506,32691,15248,867,769,7,804,7,542,4563,5471,11344,2981,2196,369,548,332,332,326,1776,113,2201,3191,2442,58,72,130,3577,1253,2,14,261,444,131,1116,2,581,670,4,54,310,592,1162,368,254,495,612,388,789,161,1384,871,277,453,1188,429,479,38,7,152,411,686,8,537,423,414,195,729,45,189,337,491,62,153,485,79,454,220,61,2,840,503,375,537,199,336,35,428,330,878,392,155,38,100,42,825,28,126,106,438,195,33,72,312,141,35,27,83,28,17,60,92,109,120,2,543,55,16,164,152,80,3,244,1,116,30,301,33,13,82,1114,57,111,202,30,48,356,54,551,296,201,328,958,6023681,2545,9,8797651,135,4,1572,549,332,445,1,2,1,1,77,1,1,900,207,1,1,1,1,1,371,3,310,1,8,1,2,1,1,415,242,88,25,2,2,59,2,2,13,4,10,32,46,4\\',authuser:0,kscs:\\'c9c918f0_8ukAW66qCMWi0gT2sLywBg\\',u:\\'c9c918f0\\',kGL:\\'HK\\'};google.kHL=\\'zh-HK\\';})();google.time=function(){return(new Date).getTime()};(function(){google.lc=[];google.li=0;google.getEI=function(a){for(var b;a&&(!a.getAttribute||!(b=a.getAttribute(\"eid\")));)a=a.parentNode;return b||google.kEI};google.getLEI=function(a){for(var b=null;a&&(!a.getAttribute||!(b=a.getAttribute(\"leid\")));)a=a.parentNode;return b};google.https=function(){return\"https:\"==window.location.protocol};google.ml=function(){return null};google.wl=function(a,b){try{google.ml(Error(a),!1,b)}catch(d){}};google.log=function(a,b,d,c,g){if(a=google.logUrl(a,b,d,c,g)){b=new Image;var e=google.lc,f=google.li;e[f]=b;b.onerror=b.onload=b.onabort=function(){delete e[f]};google.vel&&google.vel.lu&&google.vel.lu(a);b.src=a;google.li=f+1}};google.logUrl=function(a,b,d,c,g){var e=\"\",f=google.ls||\"\";d||-1!=b.search(\"&ei=\")||(e=\"&ei=\"+google.getEI(c),-1==b.search(\"&lei=\")&&(c=google.getLEI(c))&&(e+=\"&lei=\"+c));c=\"\";!d&&google.cshid&&-1==b.search(\"&cshid=\")&&(c=\"&cshid=\"+google.cshid);a=d||\"/\"+(g||\"gen_204\")+\"?atyp=i&ct=\"+a+\"&cad=\"+b+e+f+\"&zx=\"+google.time()+c;/^http:/i.test(a)&&google.https()&&(google.ml(Error(\"a\"),!1,{src:a,glmm:1}),a=\"\");return a};}).call(this);(function(){google.y={};google.x=function(a,b){if(a)var c=a.id;else{do c=Math.random();while(google.y[c])}google.y[c]=[a,b];return!1};google.lm=[];google.plm=function(a){google.lm.push.apply(google.lm,a)};google.lq=[];google.load=function(a,b,c){google.lq.push([[a],b,c])};google.loadAll=function(a,b){google.lq.push([a,b])};}).call(this);google.f={};var a=window.location,b=a.href.indexOf(\"#\");if(0<=b){var c=a.href.substring(b+1);/(^|&)q=/.test(c)&&-1==c.indexOf(\"#\")&&a.replace(\"/search?\"+c.replace(/(^|&)fp=[^&]*/g,\"\")+\"&cad=h\")};</script><style>#gbar,#guser{font-size:13px;padding-top:1px !important;}#gbar{height:22px}#guser{padding-bottom:7px !important;text-align:right}.gbh,.gbd{border-top:1px solid #c9d7f1;font-size:1px}.gbh{height:0;position:absolute;top:24px;width:100%}@media all{.gb1{height:22px;margin-right:.5em;vertical-align:top}#gbar{float:left}}a.gb1,a.gb4{text-decoration:underline !important}a.gb1,a.gb4{color:#00c !important}.gbi .gb4{color:#dd8e27 !important}.gbf .gb4{color:#900 !important}\\n</style><style>body,td,a,p,.h{font-family:arial,sans-serif}body{margin:0;overflow-y:scroll}#gog{padding:3px 8px 0}td{line-height:.8em}.gac_m td{line-height:17px}form{margin-bottom:20px}.h{color:#36c}.q{color:#00c}.ts td{padding:0}.ts{border-collapse:collapse}em{color:#c03;font-style:normal;font-weight:normal}a em{text-decoration:underline}.lst{height:25px;width:496px}.gsfi,.lst{font:18px arial,sans-serif}.gsfs{font:17px arial,sans-serif}.ds{display:inline-box;display:inline-block;margin:3px 0 4px;margin-left:4px}input{font-family:inherit}a.gb1,a.gb2,a.gb3,a.gb4{color:#11c !important}body{background:#fff;color:black}a{color:#11c;text-decoration:none}a:hover,a:active{text-decoration:underline}.fl a{color:#36c}a:visited{color:#551a8b}a.gb1,a.gb4{text-decoration:underline}a.gb3:hover{text-decoration:none}#ghead a.gb2:hover{color:#fff !important}.sblc{padding-top:5px}.sblc a{display:block;margin:2px 0;margin-left:13px;font-size:11px}.lsbb{background:#eee;border:solid 1px;border-color:#ccc #999 #999 #ccc;height:30px}.lsbb{display:block}.ftl,#fll a{display:inline-block;margin:0 12px}.lsb{background:url(/images/nav_logo229.png) 0 -261px repeat-x;border:none;color:#000;cursor:pointer;height:30px;margin:0;outline:0;font:15px arial,sans-serif;vertical-align:top}.lsb:active{background:#ccc}.lst:focus{outline:none}</style><script nonce=\"4bALFYXCEzn12TG48WWH1w==\"></script><link href=\"/images/branding/product/ico/googleg_lodp.ico\" rel=\"shortcut icon\"></head><body bgcolor=\"#fff\"><script nonce=\"4bALFYXCEzn12TG48WWH1w==\">(function(){var src=\\'/images/nav_logo229.png\\';var iesg=false;document.body.onload = function(){window.n && window.n();if (document.images){new Image().src=src;}\\nif (!iesg){document.f&&document.f.q.focus();document.gbqf&&document.gbqf.q.focus();}\\n}\\n})();</script><div id=\"mngb\"> <div id=gbar><nobr><b class=gb1>&#25628;&#23563;</b> <a class=gb1 href=\"https://www.google.com.hk/imghp?hl=zh-TW&tab=wi\">&#22294;&#29255;</a> <a class=gb1 href=\"https://maps.google.com.hk/maps?hl=zh-TW&tab=wl\">&#22320;&#22294;</a> <a class=gb1 href=\"https://play.google.com/?hl=zh-TW&tab=w8\">Play</a> <a class=gb1 href=\"https://www.youtube.com/?gl=HK&tab=w1\">YouTube</a> <a class=gb1 href=\"https://news.google.com.hk/nwshp?hl=zh-TW&tab=wn\">&#26032;&#32862;</a> <a class=gb1 href=\"https://mail.google.com/mail/?tab=wm\">Gmail</a> <a class=gb1 href=\"https://drive.google.com/?tab=wo\">&#38642;&#31471;&#30828;&#30879;</a> <a class=gb1 style=\"text-decoration:none\" href=\"https://www.google.com.hk/intl/zh-TW/options/\"><u>&#26356;&#22810;</u> &raquo;</a></nobr></div><div id=guser width=100%><nobr><span id=gbn class=gbi></span><span id=gbf class=gbf></span><span id=gbe></span><a href=\"http://www.google.com.hk/history/optout?hl=zh-TW\" class=gb4>&#32178;&#38913;&#35352;&#37636;</a> | <a  href=\"/preferences?hl=zh-TW\" class=gb4>&#35373;&#23450;</a> | <a target=_top id=gb_70 href=\"https://accounts.google.com/ServiceLogin?hl=zh-TW&passive=true&continue=https://www.google.com/\" class=gb4>&#30331;&#20837;</a></nobr></div><div class=gbh style=left:0></div><div class=gbh style=right:0></div> </div><center><br clear=\"all\" id=\"lgpd\"><div id=\"lga\"><img alt=\"Google\" height=\"92\" src=\"/images/branding/googlelogo/1x/googlelogo_white_background_color_272x92dp.png\" style=\"padding:28px 0 14px\" width=\"272\" id=\"hplogo\" onload=\"window.lol&&lol()\"><br><br></div><form action=\"/search\" name=\"f\"><table cellpadding=\"0\" cellspacing=\"0\"><tr valign=\"top\"><td width=\"25%\">&nbsp;</td><td align=\"center\" nowrap=\"\"><input name=\"ie\" value=\"ISO-8859-1\" type=\"hidden\"><input value=\"zh-HK\" name=\"hl\" type=\"hidden\"><input name=\"source\" type=\"hidden\" value=\"hp\"><input name=\"biw\" type=\"hidden\"><input name=\"bih\" type=\"hidden\"><div class=\"ds\" style=\"height:32px;margin:4px 0\"><input style=\"color:#000;margin:0;padding:5px 8px 0 6px;vertical-align:top\" autocomplete=\"off\" class=\"lst\" value=\"\" title=\"Google &#25628;&#23563;\" maxlength=\"2048\" name=\"q\" size=\"57\"></div><br style=\"line-height:0\"><span class=\"ds\"><span class=\"lsbb\"><input class=\"lsb\" value=\"Google &#25628;&#23563;\" name=\"btnG\" type=\"submit\"></span></span><span class=\"ds\"><span class=\"lsbb\"><input class=\"lsb\" value=\"&#22909;&#25163;&#27683;\" name=\"btnI\" onclick=\"if(this.form.q.value)this.checked=1; else top.location=\\'/doodles/\\'\" type=\"submit\"></span></span></td><td class=\"fl sblc\" align=\"left\" nowrap=\"\" width=\"25%\"><a href=\"/advanced_search?hl=zh-HK&amp;authuser=0\">&#36914;&#38542;&#25628;&#23563;</a><a href=\"/language_tools?hl=zh-HK&amp;authuser=0\">&#35486;&#35328;&#24037;&#20855;</a></td></tr></table><input id=\"gbv\" name=\"gbv\" type=\"hidden\" value=\"1\"></form><div id=\"gac_scont\"></div><div style=\"font-size:83%;min-height:3.5em\"><br><div id=\"gws-output-pages-elements-homepage_additional_languages__als\"><style>#gws-output-pages-elements-homepage_additional_languages__als{font-size:small;margin-bottom:24px}#SIvCob{display:inline-block;line-height:28px;}#SIvCob a{padding:0 3px;}.H6sW5{display:inline-block;margin:0 2px;white-space:nowrap}.z4hgWe{display:inline-block;margin:0 2px}</style><div id=\"SIvCob\">Google &#25552;&#20379;&#65306;  <a href=\"https://www.google.com/setprefs?sig=0_j7kFF9Qd_vhCHg9HwJQcsZZw4uc%3D&amp;hl=zh-CN&amp;source=homepage&amp;sa=X&amp;ved=0ahUKEwiu6-uNq5PbAhVFkZQKHXYYD2YQ2ZgBCAU\">&#20013;&#25991;(&#31616;&#20307;)</a>    <a href=\"https://www.google.com/setprefs?sig=0_j7kFF9Qd_vhCHg9HwJQcsZZw4uc%3D&amp;hl=en&amp;source=homepage&amp;sa=X&amp;ved=0ahUKEwiu6-uNq5PbAhVFkZQKHXYYD2YQ2ZgBCAY\">English</a>  </div></div></div><span id=\"footer\"><div style=\"font-size:10pt\"><div style=\"margin:19px auto;text-align:center\" id=\"fll\"><a href=\"/intl/zh-TW/ads/\">&#24291;&#21578;&#26381;&#21209;</a><a href=\"/intl/zh-TW/about.html\">Google &#23436;&#20840;&#25163;&#20874;</a><a href=\"https://www.google.com/setprefdomain?prefdom=HK&amp;prev=https://www.google.com.hk/&amp;sig=__iStljeqj71Sn_A0PJdr1NLpH4II%3D\">Google.com.hk</a></div></div><p style=\"color:#767676;font-size:8pt\">&copy; 2018 - <a href=\"/intl/zh-TW/policies/privacy/\">&#31169;&#38577;&#27402;&#25919;&#31574;</a> - <a href=\"/intl/zh-TW/policies/terms/\">&#26781;&#27454;</a></p></span></center><script nonce=\"4bALFYXCEzn12TG48WWH1w==\">(function(){window.google.cdo={height:0,width:0};(function(){var a=window.innerWidth,b=window.innerHeight;if(!a||!b){var c=window.document,d=\"CSS1Compat\"==c.compatMode?c.documentElement:c.body;a=d.clientWidth;b=d.clientHeight}a&&b&&(a!=google.cdo.width||b!=google.cdo.height)&&google.log(\"\",\"\",\"/client_204?&atyp=i&biw=\"+a+\"&bih=\"+b+\"&ei=\"+google.kEI);}).call(this);})();</script><div id=\"xjsd\"></div><div id=\"xjsi\"><script nonce=\"4bALFYXCEzn12TG48WWH1w==\">(function(){function c(b){window.setTimeout(function(){var a=document.createElement(\"script\");a.src=b;google.timers&&google.timers.load.t&&google.tick(\"load\",{gen204:\"xjsls\",clearcut:31});document.getElementById(\"xjsd\").appendChild(a)},0)}google.dljp=function(b,a){google.xjsu=b;c(a)};google.dlj=c;}).call(this);if(!google.xjs){window._=window._||{};window._DumpException=window._._DumpException=function(e){throw e};window._F_installCss=window._._F_installCss=function(c){};google.dljp(\\'/xjs/_/js/k\\\\x3dxjs.hp.en.bkiVVB3fBjc.O/m\\\\x3dsb_he,d/am\\\\x3dVDA2/rt\\\\x3dj/d\\\\x3d1/rs\\\\x3dACT90oEcxkI-qkbImtYfMK2UGnfOUV9WeQ\\',\\'/xjs/_/js/k\\\\x3dxjs.hp.en.bkiVVB3fBjc.O/m\\\\x3dsb_he,d/am\\\\x3dVDA2/rt\\\\x3dj/d\\\\x3d1/rs\\\\x3dACT90oEcxkI-qkbImtYfMK2UGnfOUV9WeQ\\');google.xjs=1;}google.pmc={\"sb_he\":{\"agen\":true,\"cgen\":true,\"client\":\"heirloom-hp\",\"dh\":true,\"dhqt\":true,\"ds\":\"\",\"ffql\":\"zh-TW\",\"fl\":true,\"host\":\"google.com\",\"isbh\":28,\"msgs\":{\"cibl\":\"&#28165;&#38500;&#25628;&#23563;\",\"dym\":\"&#24744;&#26159;&#19981;&#26159;&#35201;&#26597;&#65306;\",\"lcky\":\"&#22909;&#25163;&#27683;\",\"lml\":\"&#30637;&#35299;&#35443;&#24773;\",\"oskt\":\"&#36664;&#20837;&#24037;&#20855;\",\"psrc\":\"&#24050;&#24478;&#24744;&#30340;&#12300;\\\\u003Ca href=\\\\\"/history\\\\\"\\\\u003E&#32178;&#38913;&#35352;&#37636;\\\\u003C/a\\\\u003E&#12301;&#20013;&#31227;&#38500;&#36889;&#31558;&#25628;&#23563;&#35352;&#37636;\",\"psrl\":\"&#31227;&#38500;\",\"sbit\":\"&#20197;&#22294;&#25628;&#23563;\",\"srch\":\"Google &#25628;&#23563;\"},\"nds\":true,\"ovr\":{},\"pq\":\"\",\"refpd\":true,\"refspre\":true,\"rfs\":[],\"sbpl\":24,\"sbpr\":24,\"scd\":10,\"sce\":5,\"stok\":\"0dn8nGeG8fuQZ52pKWGK84qv1s4\"},\"d\":{},\"ZI/YVQ\":{},\"U5B21g\":{},\"DPBNMg\":{},\"YFCs/g\":{}};google.x(null,function(){});(function(){var r=[];google.plm(r);})();(function(){var ctx=[]\\n;google.jsc && google.jsc.x(ctx);})();</script></div></body></html>'\n"
     ]
    }
   ],
   "source": [
    "import urllib.request\n",
    "\n",
    "x = urllib.request.urlopen('https://www.google.com')\n",
    "print(x.read())\n",
    "\n",
    "# GET/POST method\n",
    "'''\n",
    "import urllib.parse\n",
    "\n",
    "url = 'https://www.google.com/search'\n",
    "values = {'q': 'python programming tutorials'}\n",
    "# encode all the values: converting 'spaces' to %20, for example\n",
    "data = urllib.parse.urlencode(values)\n",
    "data = data.encode('utf-8')\n",
    "req = urllib.request.Request(url, data)\n",
    "resp = urllib.request.urlopen(req)\n",
    "respData = resp.read()\n",
    "print(respData)\n",
    "'''\n",
    "\n",
    "# Modify header\n",
    "\n",
    "try:\n",
    "    url = 'https://www.google.com/search?q=python'\n",
    "    #print(x.read())\n",
    "    headers = {}\n",
    "    headers['User-Agent'] = 'Mozilla/5.0 (X11: Linux i686) AppleWebKit/537.17 (KHTML, like Gecko) Chrome/24.0.1312.27 Safari/537.17'\n",
    "    req = urllib.request.Request(url, headers = headers)\n",
    "    resp = urllib.request.urlopen(req)\n",
    "    respData = resp.read()\n",
    "    \n",
    "    saveFile = open('withheaders.txt', 'w')\n",
    "    saveFile.write(str(respData))\n",
    "    saveFile.close()\n",
    "    \n",
    "except Exception as e:\n",
    "    print(str(e))"
   ]
  },
  {
   "cell_type": "markdown",
   "metadata": {},
   "source": [
    "### Regular Expression\n",
    "\n",
    "There are many times where a programmer with want to split or search in a body of text for something. Say that you are looking for any prices within a body of text. Basically, you are looking for a dollar sign($), followed by at least 1 number, maybe a decimal point, and amybe more numbers. Sometimes, there will be a decimal point before any numbers, such as with something under a dollar. Try to think of a way that you'd incorporate the very large number of possibilities, it is pretty hard. This is where regular expressions come in. \n",
    "\n",
    "Regular expressions are used to sift through text-based data to find things. Regular expressions express a pattern of data that is to be located. Regex is its own language, and is basically the same no matter what programming language you are using with it. \n",
    "\n",
    "In Python 3, the module to used regular expression is *re*, and it must be imported to use regular expressions. Re is a part of the standard library, meaning you will not need to do any downloading and installing to use it, it is already there.\n",
    "\n",
    "**Identifiers:**\n",
    "\n",
    "\\d = any number <br/>\n",
    "\\D = anything but a number <br/>\n",
    "\\s = space <br/>\n",
    "\\S = anything but a space <br/>\n",
    "\\w = any letter <br/>\n",
    "\\W = anything but a letter <br/>\n",
    ". = any character, except for a new line <br/>\n",
    "\\b = space around whole words <br/>\n",
    "\\. = period. must use backslash, because . normally means any character <br/>\n",
    "\n",
    "**Modifiers:**\n",
    "\n",
    "{1,3} = for digits, u expect 1-3 counts of digits, or \"places\"\n",
    "+ = match 1 or mure\n",
    "? = match 0 or 1 repetitions\n",
    "* = match 0 or MORE repetitions\n",
    "$ = matches at the end of string\n",
    "^ = matches start of a string\n",
    "| = matches either/or. Example x|y = will match either x or y\n",
    "[] = range, or \"variance\"\n",
    "{x} = expect to see this amount of the preceding code.\n",
    "{x,y} = expect to see this x-y amounts of the preceding code\n",
    "\n",
    "**White Space Charts:**\n",
    " \n",
    "\\n = new line\n",
    "\\s = space\n",
    "\\t = tab\n",
    "\\e = escape\n",
    "\\f = form feed\n",
    "\\r = carriage return\n",
    "\n",
    "**Characters to REMEMBER TO ESCAPE IF USED!**\n",
    "\n",
    ".+\\*?[]$^()\\{\\}|\\\n",
    "\n",
    "**Brackets:**\n",
    "\n",
    "[] = quant[ia]tative = will find either quantitative, or quantatative\n",
    "[a-z] = return any lowercase letter a-z\n",
    "[1-5a-qA-Z] = return all numbers 1-5, lowercase letters a-q and uppercase A-Z"
   ]
  },
  {
   "cell_type": "code",
   "execution_count": 40,
   "metadata": {},
   "outputs": [
    {
     "name": "stdout",
     "output_type": "stream",
     "text": [
      "['15', '27', '97', '102']\n",
      "['Jessica', 'Daniel', 'Edward', 'Oscar']\n"
     ]
    }
   ],
   "source": [
    "import re\n",
    "\n",
    "exampleString = '''\n",
    "Jessica is 15 years old, and Daniel is 27 years old.\n",
    "Edward is 97 years old, and his grandfather, Oscar, is 102.\n",
    "'''\n",
    "\n",
    "ages = re.findall(r'\\d{1,3}', exampleString)\n",
    "names = re.findall(r'[A-Z][a-z]*', exampleString)\n",
    "\n",
    "print(ages)\n",
    "print(names)"
   ]
  },
  {
   "cell_type": "markdown",
   "metadata": {},
   "source": [
    "### Parse a Website with regex and urllib \n",
    "\n",
    "We use two of Python 3's standard library modules, *re* and *urllib*, to parse paragraph data from a website. As we saw, initially, when you use Python 3 and urllib to parse a website, you get all of the HTML data, like using \"view source\" on a web page. This HTML data is great if you are viewing via a browser, but is incredibly messy if you are viewing the raw source. For this reason, we need to build something that can sift through the mess and just pull the article data that we are interested in. There are some web scraping libraries out there, namely BeautifulSoup, which are aimed at doing this same sort of task"
   ]
  },
  {
   "cell_type": "code",
   "execution_count": 42,
   "metadata": {},
   "outputs": [
    {
     "name": "stdout",
     "output_type": "stream",
     "text": [
      "In this video, we use two of Python 3\\'s standard library modules, re and urllib, to parse paragraph data from a website. As we saw, initially, when you use Python 3 and urllib to parse a website, you get all of the HTML data, like using \"view source\" on a web page. This HTML data is great if you are viewing via a browser, but is incredibly messy if you are viewing the raw source. For this reason, we need to build something that can sift through the mess and just pull the article data that we are interested in. There are some web scraping libraries out there, namely BeautifulSoup, which are aimed at doing this same sort of task.\n",
      "On to the code:\n",
      "Up to this point, everything should look pretty typical, as you\\'ve seen it all before. We specify our url, our values dict, encode the values, build our request, make our request, and then store the request to respData. We can print it out if we want to see what we\\'re working with. If you are using an IDE, sometimes printing out the source code is not the greatest idea. Many webpages, especially larger ones, have very large amounts of code in their source. Printing all of this out can take quite a while in the IDLE. Personally, I prefer to just view-source. In Google Chrome, for example, control+u will view-source. \n",
      "Alternatively, you should be able to just right-click on the page and select view-source. Once there, you want to look for your \"target data.\" In our case, we just want to take the paragraph text data. If you\\'re looking for something specific, then what I suggest you do is copy some of the \"thing\" you are looking for. So in the case of specific paragraph text, highlight some of it, copy it, then view the source. Once there, do a find operation, control+f usually will open one up, then paste in what you are looking for. Once you\\'ve done that, you should be able to find some identifiers near what you are looking for. In the case of paragraph data, it is paragraph data because people tell the browser it is. This means usually that there are literally paragraph tags around what we want that look like: \n",
      "Some websites get fancy with their HTML and do things like \n",
      "...keep this in mind. With that in mind, most websites just use simple paragraph tags, so let\\'s show that: \n",
      "The above regular expression states: Find me anything that starts with a paragraph tag, then in our parenthesis, we say exactly \"what\" we\\'re looking for, and that\\'s basically any character, except for a newline, one or more repetitions of that character, and finally there may be 0 or 1 of THIS expression. After that, we have a closing paragraph tag. We find as many of these that exist. This will generate a list, which we can then iterate through with:\n",
      "The output should be a bunch of paragraph data from our website.\n",
      "The next tutorial: <a title=\"Tkinter intro\" href=\"/python-3-tkinter-basics-tutorial/?completed=/parse-website-using-regular-expressions-urllib/\"><button class=\"btn\" style=\"background-color:#FFD166; color:#000000\">Tkinter intro</button></a>\n",
      "<a href=\"/introduction-to-python-programming/\"><button class=\"btn waves-effect waves-light right-align\" style=\"background-color:#FFD166; color:#000000\">Go\\n\\t\\t\\t\\t\\t\\t\\t\\t\\t  </button></a>\n",
      "<a href=\"/python-tutorial-print-function-strings/\"><button class=\"btn waves-effect waves-light right-align\" style=\"background-color:#FFD166; color:#000000\">Go\\n\\t\\t\\t\\t\\t\\t\\t\\t\\t  </button></a>\n",
      "<a href=\"/math-basics-python-3-beginner-tutorial/\"><button class=\"btn waves-effect waves-light right-align\" style=\"background-color:#FFD166; color:#000000\">Go\\n\\t\\t\\t\\t\\t\\t\\t\\t\\t  </button></a>\n",
      "<a href=\"/python-3-variables-tutorial/\"><button class=\"btn waves-effect waves-light right-align\" style=\"background-color:#FFD166; color:#000000\">Go\\n\\t\\t\\t\\t\\t\\t\\t\\t\\t  </button></a>\n",
      "<a href=\"/python-3-loop-tutorial/\"><button class=\"btn waves-effect waves-light right-align\" style=\"background-color:#FFD166; color:#000000\">Go\\n\\t\\t\\t\\t\\t\\t\\t\\t\\t  </button></a>\n",
      "<a href=\"/loop-python-3-basics-tutorial/\"><button class=\"btn waves-effect waves-light right-align\" style=\"background-color:#FFD166; color:#000000\">Go\\n\\t\\t\\t\\t\\t\\t\\t\\t\\t  </button></a>\n",
      "<a href=\"/if-statement-python-3-basics-tutorial/\"><button class=\"btn waves-effect waves-light right-align\" style=\"background-color:#FFD166; color:#000000\">Go\\n\\t\\t\\t\\t\\t\\t\\t\\t\\t  </button></a>\n",
      "<a href=\"/else-python-3-tutorial/\"><button class=\"btn waves-effect waves-light right-align\" style=\"background-color:#FFD166; color:#000000\">Go\\n\\t\\t\\t\\t\\t\\t\\t\\t\\t  </button></a>\n",
      "<a href=\"/elif-else-python-3-tutorial/\"><button class=\"btn waves-effect waves-light right-align\" style=\"background-color:#FFD166; color:#000000\">Go\\n\\t\\t\\t\\t\\t\\t\\t\\t\\t  </button></a>\n",
      "<a href=\"/functions-python-3-basics-tutorial/\"><button class=\"btn waves-effect waves-light right-align\" style=\"background-color:#FFD166; color:#000000\">Go\\n\\t\\t\\t\\t\\t\\t\\t\\t\\t  </button></a>\n",
      "<a href=\"/function-parameters-python-3-basics/\"><button class=\"btn waves-effect waves-light right-align\" style=\"background-color:#FFD166; color:#000000\">Go\\n\\t\\t\\t\\t\\t\\t\\t\\t\\t  </button></a>\n",
      "<a href=\"/function-parameter-defaults-python-3-basics/\"><button class=\"btn waves-effect waves-light right-align\" style=\"background-color:#FFD166; color:#000000\">Go\\n\\t\\t\\t\\t\\t\\t\\t\\t\\t  </button></a>\n",
      "<a href=\"/global-local-variables/\"><button class=\"btn waves-effect waves-light right-align\" style=\"background-color:#FFD166; color:#000000\">Go\\n\\t\\t\\t\\t\\t\\t\\t\\t\\t  </button></a>\n",
      "<a href=\"/installing-modules-python-3/\"><button class=\"btn waves-effect waves-light right-align\" style=\"background-color:#FFD166; color:#000000\">Go\\n\\t\\t\\t\\t\\t\\t\\t\\t\\t  </button></a>\n",
      "<a href=\"/using-pip-install-for-python-modules/\"><button class=\"btn waves-effect waves-light right-align\" style=\"background-color:#FFD166; color:#000000\">Go\\n\\t\\t\\t\\t\\t\\t\\t\\t\\t  </button></a>\n",
      "<a href=\"/common-errors-python-3-basics/\"><button class=\"btn waves-effect waves-light right-align\" style=\"background-color:#FFD166; color:#000000\">Go\\n\\t\\t\\t\\t\\t\\t\\t\\t\\t  </button></a>\n",
      "<a href=\"/writing-file-python-3-basics/\"><button class=\"btn waves-effect waves-light right-align\" style=\"background-color:#FFD166; color:#000000\">Go\\n\\t\\t\\t\\t\\t\\t\\t\\t\\t  </button></a>\n",
      "<a href=\"/appending-file-python-3-tutorial/\"><button class=\"btn waves-effect waves-light right-align\" style=\"background-color:#FFD166; color:#000000\">Go\\n\\t\\t\\t\\t\\t\\t\\t\\t\\t  </button></a>\n",
      "<a href=\"/reading-file-python-3-tutorial/\"><button class=\"btn waves-effect waves-light right-align\" style=\"background-color:#FFD166; color:#000000\">Go\\n\\t\\t\\t\\t\\t\\t\\t\\t\\t  </button></a>\n",
      "<a href=\"/classes-python-3-basics-tutorial/\"><button class=\"btn waves-effect waves-light right-align\" style=\"background-color:#FFD166; color:#000000\">Go\\n\\t\\t\\t\\t\\t\\t\\t\\t\\t  </button></a>\n",
      "<a href=\"/frequently-asked-questions-python-3/\"><button class=\"btn waves-effect waves-light right-align\" style=\"background-color:#FFD166; color:#000000\">Go\\n\\t\\t\\t\\t\\t\\t\\t\\t\\t  </button></a>\n",
      "<a href=\"/user-input-python-3-tutorial/\"><button class=\"btn waves-effect waves-light right-align\" style=\"background-color:#FFD166; color:#000000\">Go\\n\\t\\t\\t\\t\\t\\t\\t\\t\\t  </button></a>\n",
      "<a href=\"/statistics-python-3-module-mean-standard-deviation/\"><button class=\"btn waves-effect waves-light right-align\" style=\"background-color:#FFD166; color:#000000\">Go\\n\\t\\t\\t\\t\\t\\t\\t\\t\\t  </button></a>\n",
      "<a href=\"/module-import-syntax-python-3-tutorial/\"><button class=\"btn waves-effect waves-light right-align\" style=\"background-color:#FFD166; color:#000000\">Go\\n\\t\\t\\t\\t\\t\\t\\t\\t\\t  </button></a>\n",
      "<a href=\"/making-modules/\"><button class=\"btn waves-effect waves-light right-align\" style=\"background-color:#FFD166; color:#000000\">Go\\n\\t\\t\\t\\t\\t\\t\\t\\t\\t  </button></a>\n",
      "<a href=\"/python-lists-vs-tuples/\"><button class=\"btn waves-effect waves-light right-align\" style=\"background-color:#FFD166; color:#000000\">Go\\n\\t\\t\\t\\t\\t\\t\\t\\t\\t  </button></a>\n",
      "<a href=\"/python-3-list-manipulation/\"><button class=\"btn waves-effect waves-light right-align\" style=\"background-color:#FFD166; color:#000000\">Go\\n\\t\\t\\t\\t\\t\\t\\t\\t\\t  </button></a>\n",
      "<a href=\"/python-3-multi-dimensional-list/\"><button class=\"btn waves-effect waves-light right-align\" style=\"background-color:#FFD166; color:#000000\">Go\\n\\t\\t\\t\\t\\t\\t\\t\\t\\t  </button></a>\n",
      "<a href=\"/reading-csv-files-python-3/\"><button class=\"btn waves-effect waves-light right-align\" style=\"background-color:#FFD166; color:#000000\">Go\\n\\t\\t\\t\\t\\t\\t\\t\\t\\t  </button></a>\n",
      "<a href=\"/handling-exceptions-try-except-python-3/\"><button class=\"btn waves-effect waves-light right-align\" style=\"background-color:#FFD166; color:#000000\">Go\\n\\t\\t\\t\\t\\t\\t\\t\\t\\t  </button></a>\n",
      "<a href=\"/multi-line-printing-python-3/\"><button class=\"btn waves-effect waves-light right-align\" style=\"background-color:#FFD166; color:#000000\">Go\\n\\t\\t\\t\\t\\t\\t\\t\\t\\t  </button></a>\n",
      "<a href=\"/dictionaries-tutorial-python-3/\"><button class=\"btn waves-effect waves-light right-align\" style=\"background-color:#FFD166; color:#000000\">Go\\n\\t\\t\\t\\t\\t\\t\\t\\t\\t  </button></a>\n",
      "<a href=\"/built-functions-python-3/\"><button class=\"btn waves-effect waves-light right-align\" style=\"background-color:#FFD166; color:#000000\">Go\\n\\t\\t\\t\\t\\t\\t\\t\\t\\t  </button></a>\n",
      "<a href=\"/python-3-os-module/\"><button class=\"btn waves-effect waves-light right-align\" style=\"background-color:#FFD166; color:#000000\">Go\\n\\t\\t\\t\\t\\t\\t\\t\\t\\t  </button></a>\n",
      "<a href=\"/sys-module-python-3/\"><button class=\"btn waves-effect waves-light right-align\" style=\"background-color:#FFD166; color:#000000\">Go\\n\\t\\t\\t\\t\\t\\t\\t\\t\\t  </button></a>\n",
      "<a href=\"/urllib-tutorial-python-3/\"><button class=\"btn waves-effect waves-light right-align\" style=\"background-color:#FFD166; color:#000000\">Go\\n\\t\\t\\t\\t\\t\\t\\t\\t\\t  </button></a>\n",
      "<a href=\"/regular-expressions-regex-tutorial-python-3/\"><button class=\"btn waves-effect waves-light right-align\" style=\"background-color:#FFD166; color:#000000\">Go\\n\\t\\t\\t\\t\\t\\t\\t\\t\\t  </button></a>\n",
      "<a href=\"/python-3-tkinter-basics-tutorial/\"><button class=\"btn waves-effect waves-light right-align\" style=\"background-color:#FFD166; color:#000000\">Go\\n\\t\\t\\t\\t\\t\\t\\t\\t\\t  </button></a>\n",
      "<a href=\"/tkinter-python-3-tutorial-adding-buttons/\"><button class=\"btn waves-effect waves-light right-align\" style=\"background-color:#FFD166; color:#000000\">Go\\n\\t\\t\\t\\t\\t\\t\\t\\t\\t  </button></a>\n",
      "<a href=\"/tkinter-tutorial-python-3-event-handling/\"><button class=\"btn waves-effect waves-light right-align\" style=\"background-color:#FFD166; color:#000000\">Go\\n\\t\\t\\t\\t\\t\\t\\t\\t\\t  </button></a>\n",
      "<a href=\"/tkinter-menu-bar-tutorial/\"><button class=\"btn waves-effect waves-light right-align\" style=\"background-color:#FFD166; color:#000000\">Go\\n\\t\\t\\t\\t\\t\\t\\t\\t\\t  </button></a>\n",
      "<a href=\"/tkinter-adding-text-images/\"><button class=\"btn waves-effect waves-light right-align\" style=\"background-color:#FFD166; color:#000000\">Go\\n\\t\\t\\t\\t\\t\\t\\t\\t\\t  </button></a>\n",
      "<a href=\"/threading-tutorial-python/\"><button class=\"btn waves-effect waves-light right-align\" style=\"background-color:#FFD166; color:#000000\">Go\\n\\t\\t\\t\\t\\t\\t\\t\\t\\t  </button></a>\n",
      "<a href=\"/converting-python-scripts-exe-executables/\"><button class=\"btn waves-effect waves-light right-align\" style=\"background-color:#FFD166; color:#000000\">Go\\n\\t\\t\\t\\t\\t\\t\\t\\t\\t  </button></a>\n",
      "<a href=\"/python-3-subprocess-tutorial/\"><button class=\"btn waves-effect waves-light right-align\" style=\"background-color:#FFD166; color:#000000\">Go\\n\\t\\t\\t\\t\\t\\t\\t\\t\\t  </button></a>\n",
      "<a href=\"/matplotlib-python-3-basics-tutorial/\"><button class=\"btn waves-effect waves-light right-align\" style=\"background-color:#FFD166; color:#000000\">Go\\n\\t\\t\\t\\t\\t\\t\\t\\t\\t  </button></a>\n",
      "<a href=\"/ftp-transfers-python-ftplib/\"><button class=\"btn waves-effect waves-light right-align\" style=\"background-color:#FFD166; color:#000000\">Go\\n\\t\\t\\t\\t\\t\\t\\t\\t\\t  </button></a>\n",
      "<a href=\"/python-sockets/\"><button class=\"btn waves-effect waves-light right-align\" style=\"background-color:#FFD166; color:#000000\">Go\\n\\t\\t\\t\\t\\t\\t\\t\\t\\t  </button></a>\n",
      "<a href=\"/python-port-scanner-sockets/\"><button class=\"btn waves-effect waves-light right-align\" style=\"background-color:#FFD166; color:#000000\">Go\\n\\t\\t\\t\\t\\t\\t\\t\\t\\t  </button></a>\n",
      "<a href=\"/python-threaded-port-scanner/\"><button class=\"btn waves-effect waves-light right-align\" style=\"background-color:#FFD166; color:#000000\">Go\\n\\t\\t\\t\\t\\t\\t\\t\\t\\t  </button></a>\n",
      "<a href=\"/python-binding-listening-sockets/\"><button class=\"btn waves-effect waves-light right-align\" style=\"background-color:#FFD166; color:#000000\">Go\\n\\t\\t\\t\\t\\t\\t\\t\\t\\t  </button></a>\n",
      "<a href=\"/client-server-python-sockets/\"><button class=\"btn waves-effect waves-light right-align\" style=\"background-color:#FFD166; color:#000000\">Go\\n\\t\\t\\t\\t\\t\\t\\t\\t\\t  </button></a>\n",
      "<a href=\"/converting-python2-to-python3-2to3/\"><button class=\"btn waves-effect waves-light right-align\" style=\"background-color:#FFD166; color:#000000\">Go\\n\\t\\t\\t\\t\\t\\t\\t\\t\\t  </button></a>\n",
      "<a href=\"/python-pickle-module-save-objects-serialization/\"><button class=\"btn waves-effect waves-light right-align\" style=\"background-color:#FFD166; color:#000000\">Go\\n\\t\\t\\t\\t\\t\\t\\t\\t\\t  </button></a>\n",
      "<a href=\"/python-eval-tutorial/\"><button class=\"btn waves-effect waves-light right-align\" style=\"background-color:#FFD166; color:#000000\">Go\\n\\t\\t\\t\\t\\t\\t\\t\\t\\t  </button></a>\n",
      "<a href=\"/python-exec-tutorial/\"><button class=\"btn waves-effect waves-light right-align\" style=\"background-color:#FFD166; color:#000000\">Go\\n\\t\\t\\t\\t\\t\\t\\t\\t\\t  </button></a>\n",
      "\\n\\t\\t\\t\\t\\t\\t<a href=\"#\" class=\"btn btn-flat white modal-close\">Cancel</a> &nbsp;\\n\\t\\t\\t\\t\\t\\t<a href=\"#\" class=\"waves-effect waves-blue blue btn btn-flat modal-action modal-close\">Login</a>\\n\\t\\t\\t\\t\\t\n",
      "\\n\\t\\t\\t\\t\\t\\t\\t\\t<a href=\"#\" class=\"btn btn-flat white modal-close\">Cancel</a> &nbsp;\\n\\t\\t\\t\\t\\t\\t\\t\\t<button class=\"btn\" type=submit value=Register>Sign Up</button>\\n\\t\\t\\t\\t\\t\\t\\t\n"
     ]
    }
   ],
   "source": [
    "import urllib.request\n",
    "import re\n",
    "\n",
    "url = 'http://pythonprogramming.net/parse-website-using-regular-expressions-urllib'\n",
    "\n",
    "req = urllib.request.Request(url)\n",
    "resp = urllib.request.urlopen(req)\n",
    "respData = resp.read()\n",
    "\n",
    "# Find me anything that starts with a paragraph tag, \n",
    "# then in our parenthesis, we say exactly \"what\" we're looking for,\n",
    "# and finally there may be 0 or 1 of THIS expression.\n",
    "# After that, we have a closing paragraph tag.\n",
    "paragraphs = re.findall(r'<p>(.*?)</p>', str(respData))\n",
    "for eachP in paragraphs:\n",
    "    print(eachP)"
   ]
  },
  {
   "cell_type": "markdown",
   "metadata": {},
   "source": [
    "### Tkinter intro\n",
    "\n",
    "The tkinter module is a wrapper around tk, which is a wrapper around tcl, which is what is used to create windows and graphical user interfaces.\n",
    "\n",
    "Here, we show how simple it is to create a very basic window in just 8 lines. We get a window that we can resize, minimize, maximize, and close! The tkinter module's purpose is to generate GUIs. Python is not very popularly used for this purpose, but it is more than capable of doing it.\n",
    "\n",
    "#### Tkinter buttons\n",
    "\n",
    "Buttons are used for all sorts of things, but generally are great to incite some interaction between the program and the user. Adding buttons is a two-fold thing in the end.\n",
    "\n",
    "#### Tkinter event handling\n",
    "\n",
    "In this scenario, we are adding a quit event to our quit button, which currently does nothing when clicked on. In basically every circumstance, we're going to want to have our buttons actually do something or perform an action rather than just appear there. This is called an event when someone clicks on something, and we can write code to handle events. Generally, we want to write code that is in line what the expectation of the user that created the event. The more in-line your program can be with what the user inteds to happen with their events, the more user-friendly it is going to be.\n",
    "\n",
    "In tkinter, event handling is as simple as adding a command, which we'll make into a function. Even though this function we create is a basic 1-line function that simply calls another function, we can see how we can later create more complex functions for our events.\n",
    "\n",
    "#### Tkinter menu bar\n",
    "\n",
    "The way tkinter works, along with quite a few graphic/windows operations work, is with a main window, then you sort of build things on top of it, then display everything all at once, which gives the appearance of a singular package. \n",
    "\n",
    "#### Tkinter text and images\n",
    "\n",
    "To round off intro to tkinter, I will be showing how to add text and images to your window. We're going to make them show conditionally, to illustrate how simple it is to make the windows interactive"
   ]
  },
  {
   "cell_type": "code",
   "execution_count": 2,
   "metadata": {},
   "outputs": [],
   "source": [
    "from tkinter import *\n",
    "\n",
    "from PIL import Image, ImageTk\n",
    "\n",
    "# Define the setting upon initialization. This is the master widget.\n",
    "class Window(Frame):\n",
    "    \n",
    "    def __init__(self, master=None):\n",
    "        Frame.__init__(self, master)\n",
    "        self.master = master\n",
    "        self.init_window()\n",
    "    \n",
    "    def init_window(self):\n",
    "        # changing the title of our master widget\n",
    "        self.master.title('GUI')\n",
    "        \n",
    "        # allowing the widget to take the full space of the root window\n",
    "        self.pack(fill=BOTH, expand=1)\n",
    "        \n",
    "        # creating a menu instance\n",
    "        menu = Menu(self.master)\n",
    "        self.master.config(menu=menu)\n",
    "        \n",
    "        # create the file object\n",
    "        file = Menu(menu)\n",
    "        # adds a command to the munu option, calling it exit, and the command it runs on event is client-exit\n",
    "        file.add_command(label='Exit', command=self.client_exit)\n",
    "        # added \"file\" to our menu\n",
    "        menu.add_cascade(label='File', menu=file)\n",
    "        \n",
    "        # create the file object\n",
    "        edit = Menu(menu)\n",
    "        # adds a command to the menu option, calling it exit, and the command it runs on event is client_exit\n",
    "        edit.add_command(label='Show Img', command=self.showImg)\n",
    "        edit.add_command(label='Show Text', command=self.showText)\n",
    "        # added 'file' to our menu\n",
    "        menu.add_cascade(label='Edit', menu=edit)\n",
    "        \n",
    "        # creating a button instance\n",
    "        quitButton = Button(self, text='Quit', command=self.client_exit)\n",
    "        # placing the button on my window\n",
    "        quitButton.place(x=0, y=0)\n",
    "        \n",
    "    def showImg(self):\n",
    "        '''\n",
    "        load = Image.open('chat.png')\n",
    "        render = ImageTk.PhotoImage(load)\n",
    "    \n",
    "        img = Label(self, image=render)\n",
    "        img.image = render\n",
    "        img.place(x=0, y=0)\n",
    "        '''\n",
    "        \n",
    "    def showText(self):\n",
    "        text = Label(self, text='Hey there good lookin!')\n",
    "        text.pack()\n",
    "    def client_exit(self):\n",
    "        exit()\n",
    "\n",
    "root = Tk()\n",
    "\n",
    "# size of the window\n",
    "root.geometry(\"400x300\")\n",
    "app = Window(root)\n",
    "root.mainloop()"
   ]
  },
  {
   "cell_type": "markdown",
   "metadata": {},
   "source": [
    "### Threading\n",
    "\n",
    "Probably one of the largest drawbacks to the Python programming languages is that it is single-threaded. This means that Python will only run a single thread naturally. If you have a large computational task, you might have already found that it takes Python a very long time to reach a solution, and yet, your processor might sit at 5% usage or even less. There are quite a few solutions to this problem, like threading, multiprocessing, and GPU programming. All of these are possible with Python, and today we will be covering threading.\n",
    "\n",
    "Threading is making use of idle processes, to give the appearance of parallel programming. With threading alone in Python, this is not really the case, but we indeed use threading to make use of idle times and still gain some significant performance increases\n",
    "\n",
    "We're going to define a thread lock. The idea of a threading lock is to prevent simultaneous modification of a variable. So, if two processes begin interaction with a variable with it it, say, 5, and one operation adds 2, and the other adds 3, we're going to end with either 7 or 8 as the variable, rather than having it be 5+2+3, which would be 10. A lock will force an operation to wait until the variable is unlocked in order to access and modify it. Another use for a lock is to aid in input/output. With threading, it becomes quite easy to have two processes modifying the same file, and the data will literally just run over each other. So say you are meaning to save two values, like 'Monday' and 'Tuesday' to a file, you are intending for the file to just read: 'Monday Tuesday', but instead it winds up looking like 'MoTunedsadyay'. A lock helps this."
   ]
  },
  {
   "cell_type": "code",
   "execution_count": 4,
   "metadata": {},
   "outputs": [
    {
     "name": "stdout",
     "output_type": "stream",
     "text": [
      "Thread-4Thread-5Thread-6Thread-7Thread-8Thread-9Thread-10Thread-11Thread-12Thread-13          0123456789\n",
      "\n",
      "\n",
      "\n",
      "\n",
      "\n",
      "\n",
      "\n",
      "\n",
      "\n",
      "Thread-4Thread-10Thread-11Thread-5Thread-8Thread-7Thread-12Thread-6Thread-13Thread-9Entire job took:           101617111413181219151.0127160549163818\n",
      "\n",
      "\n",
      "\n",
      "\n",
      "\n",
      "\n",
      "\n",
      "\n",
      "\n",
      "\n"
     ]
    }
   ],
   "source": [
    "import threading\n",
    "from queue import Queue\n",
    "import time\n",
    "\n",
    "print_lock = threading.Lock()\n",
    "\n",
    "def exampleJob(worker):\n",
    "    time.sleep(.5)\n",
    "    with print_lock:\n",
    "        print(threading.current_thread().name, worker)\n",
    "        \n",
    "def threader():\n",
    "    while True:\n",
    "        worker = q.get()\n",
    "        \n",
    "        exampleJob(worker)\n",
    "        \n",
    "        q.task_done()\n",
    "        \n",
    "q = Queue()\n",
    "\n",
    "for x in range(10):\n",
    "    t = threading.Thread(target=threader)\n",
    "    \n",
    "    t.daemon = True\n",
    "    \n",
    "    t.start()\n",
    "    \n",
    "start = time.time()\n",
    "\n",
    "for worker in range(20):\n",
    "    q.put(worker)\n",
    "    \n",
    "q.join()\n",
    "\n",
    "print('Entire job took:', time.time() - start)"
   ]
  },
  {
   "cell_type": "markdown",
   "metadata": {},
   "source": [
    "### CX_Freeze\n",
    "\n",
    "There may come a time when you've created something very exciting, and you want to share it. Usually, in order to share your Python program, the recipient is going to need to have the same version of Python installed, along with all of the modules used. Well this can be quite tedious to require. The interest in converting to .exe is fairly high for distribution, and there are a couple of options. For Python 3, I have found cx_freeze to work quite nicely. Here's a tutorial covering how it works.\n",
    "\n",
    "So, here we're importing from cx_Freeze setup and executable, then we call the setup function, adding 4 parameters. For name, this is the name we want our executable to be. Version is just a version number to give it, description if you want, then finally what shall we convert, using the executable function and the python script's path to be converted as the parameter.\n",
    "\n",
    "Next, we run: <br/>\n",
    "`python setup.py build`"
   ]
  },
  {
   "cell_type": "code",
   "execution_count": null,
   "metadata": {
    "collapsed": true
   },
   "outputs": [],
   "source": [
    "from cx_Freeze import setup, Executable\n",
    "\n",
    "setup(name = 'reandurllib',\n",
    "     version = '0.1',\n",
    "     description = '',\n",
    "     executables = [Executable('reandurllib.py')])"
   ]
  },
  {
   "cell_type": "markdown",
   "metadata": {},
   "source": [
    "### Matplotlib Crash Course\n",
    "\n",
    "One of the most popular uses for Python is data analysis. Naturally, data scientists want a way to visualize their data. Either they are wanting to see it for themselves to get a better grasp of the data, or they want to display the data to convey their results to someone. With Matplotlib, arguably the most popular graphing and data visualization module for Python, this is very simplistic to do. \n",
    "\n"
   ]
  },
  {
   "cell_type": "code",
   "execution_count": 10,
   "metadata": {},
   "outputs": [
    {
     "data": {
      "image/png": "[encoded data removed]",
      "text/plain": [
       "<matplotlib.figure.Figure at 0x120d1b4e0>"
      ]
     },
     "metadata": {},
     "output_type": "display_data"
    }
   ],
   "source": [
    "from matplotlib import pyplot as plt\n",
    "from matplotlib import style\n",
    "\n",
    "style.use('ggplot')\n",
    "# Basic code to generating one of the most simple graphs what we can\n",
    "x = [5, 8, 10]\n",
    "y = [12, 16, 6]\n",
    "\n",
    "x2 = [6, 9, 11]\n",
    "y2 = [6, 15, 7]\n",
    "\n",
    "plt.plot(x, y, 'g', label = 'line one', linewidth=5)\n",
    "plt.plot(x2, y2, 'c', label = 'line two', linewidth=5)\n",
    "plt.title('Epic Info')\n",
    "plt.ylabel('Y axis')\n",
    "plt.xlabel('X axis')\n",
    "\n",
    "plt.legend()\n",
    "\n",
    "plt.grid(True, color='k')\n",
    "\n",
    "plt.show()"
   ]
  },
  {
   "cell_type": "code",
   "execution_count": 11,
   "metadata": {},
   "outputs": [
    {
     "data": {
      "image/png": "[encoded data removed]",
      "text/plain": [
       "<matplotlib.figure.Figure at 0x120decf98>"
      ]
     },
     "metadata": {},
     "output_type": "display_data"
    }
   ],
   "source": [
    "from matplotlib import pyplot as plt\n",
    "from matplotlib import style\n",
    "\n",
    "style.use('ggplot')\n",
    "# Basic code to generating one of the most simple graphs what we can\n",
    "x = [5, 8, 10]\n",
    "y = [12, 16, 6]\n",
    "\n",
    "x2 = [6, 9, 11]\n",
    "y2 = [6, 15, 7]\n",
    "\n",
    "plt.bar(x, y, align='center')\n",
    "plt.bar(x2, y2, color='g', align='center')\n",
    "plt.title('Epic Info')\n",
    "plt.ylabel('Y axis')\n",
    "plt.xlabel('X axis')\n",
    "\n",
    "\n",
    "plt.show()"
   ]
  },
  {
   "cell_type": "markdown",
   "metadata": {},
   "source": [
    "### Sockets with Python Inro\n",
    "\n",
    "Sockets are used in networking. The idea of socket is to aid in the communication between two entities. When you view a website, you are opening a port and connecting to that website via sockets. In this, you are the client, and the website is the server. Quite literally, you are served data.\n",
    "\n",
    "#### What are Ports and what are Sockets?\n",
    "\n",
    "A natural point of confusion here is the difference between sockets and ports. You can think of a port much like a shipping port, where boats dock at the port and unload goods. Then, you can think of the ship itself as the socket. The ocean is the Internet. Much like shipping ports, a socket, is bound by a specific port. Docking at a different port is not allowed, for sockets.\n",
    "\n",
    "Generally, we use sockets to communicate between a couple of places, so let's show an example of that. One of the most common transmissions of data is between a \"client\" and \"server\", most often in the case of a user visiting a website and being served web-content, much like you are being served this page right now. Sockets did that for you.\n",
    "\n",
    "Just about any public website will have port 80 open, which is for HTTP access. Most websites will have port 22 open, which is for SSH(secure shell), and many will have 20 and 21 open, which are used for FTP(File Transfer Protocol).\n",
    "\n",
    "#### Sockets port scanner\n",
    "\n",
    "The idea of a port scanner is to run through a list of ports, testing to see if they are open. We can do this because the steps for using sockets for sending data is first you make the connection, then you try to off-load the request. \n",
    "\n",
    "With our port scanner, we just attempt to dock at various ports, and do nothing else. If we're permitted to dock / connect to open ports, then we know at least the port is open. This is a form of 'reconnaissance' for hackers and penetration testers.\n",
    "\n",
    "#### Binding and Listening with Sockets\n",
    "\n",
    "The way this is done should sound fairly expectable, as you know the requirements of sockets. First you bind a socket, then you listen on a port for incoming connections.\n",
    "\n",
    "Socket import for sockets, sys import to execute a quit if there is a failure\n",
    "\n",
    "Next, we specify our host and port. You don't really need the host to be specified, but it is good practice to include it in your code, so we have. Finally, we're specifying a port. Pick whatever you want, just choose a high number so it hopefully doesn't conflict with another program of yous"
   ]
  },
  {
   "cell_type": "code",
   "execution_count": 15,
   "metadata": {},
   "outputs": [
    {
     "name": "stdout",
     "output_type": "stream",
     "text": [
      "<socket.socket fd=92, family=AddressFamily.AF_INET, type=SocketKind.SOCK_STREAM, proto=0, laddr=('0.0.0.0', 0)>\n",
      "104.237.143.20\n",
      "b'HTTP/1.1 301 Moved Permanently\\r\\nDate: Sun, 20 May 2018 11:01:57 GMT\\r\\nServer: Apache/2.4.10 (Ubuntu)\\r\\nLocation: https://pythonprogramming.net/\\r\\nContent-Length: 325\\r\\nContent-Type: text/html; charset=iso-8859-1\\r\\n\\r\\n<!DOCTYPE HTML PUBLIC \"-//IETF//DTD HTML 2.0//EN\">\\n<html><head>\\n<title>301 Moved Permanently</title>\\n</head><body>\\n<h1>Moved Permanently</h1>\\n<p>The document has moved <a href=\"https://pythonprogramming.net/\">here</a>.</p>\\n<hr>\\n<address>Apache/2.4.10 (Ubuntu) Server at pythonprogramming.net Port 80</address>\\n</body></html>\\n'\n"
     ]
    }
   ],
   "source": [
    "import socket\n",
    "server = 'pythonprogramming.net'\n",
    "# returned a \"socket descriptor\" by socket.socket\n",
    "request = 'GET / HTTP/1.1\\nHost: '+server+ '\\n\\n'\n",
    "s = socket.socket(socket.AF_INET, socket.SOCK_STREAM)\n",
    "print(s)\n",
    "s.connect(('pythonprogramming.net', 80))\n",
    "port = 80\n",
    "server_ip = socket.gethostbyname(server)\n",
    "print(server_ip)\n",
    "\n",
    "s.send(request.encode())\n",
    "result = s.recv(4096)\n",
    "print(result)"
   ]
  },
  {
   "cell_type": "code",
   "execution_count": 19,
   "metadata": {},
   "outputs": [
    {
     "name": "stdout",
     "output_type": "stream",
     "text": [
      "What website to scan?: https://www.hackthissite.org\n"
     ]
    }
   ],
   "source": [
    "import socket\n",
    "\n",
    "s = socket.socket(socket.AF_INET, socket.SOCK_STREAM)\n",
    "\n",
    "target = input('What website to scan?: ')\n",
    "\n",
    "def pscan(port):\n",
    "    try:\n",
    "        con = s.connect((target, port))\n",
    "        return True\n",
    "    except:\n",
    "        return False\n",
    "\n",
    "for x in range(25):\n",
    "    if pscan(x):\n",
    "        print('Port', x, 'is open')"
   ]
  },
  {
   "cell_type": "code",
   "execution_count": 21,
   "metadata": {},
   "outputs": [
    {
     "name": "stdout",
     "output_type": "stream",
     "text": [
      "Socket bind complete\n"
     ]
    },
    {
     "ename": "KeyboardInterrupt",
     "evalue": "",
     "output_type": "error",
     "traceback": [
      "\u001b[0;31m---------------------------------------------------------------------------\u001b[0m",
      "\u001b[0;31mKeyboardInterrupt\u001b[0m                         Traceback (most recent call last)",
      "\u001b[0;32m<ipython-input-21-eeb082617bfa>\u001b[0m in \u001b[0;36m<module>\u001b[0;34m()\u001b[0m\n\u001b[1;32m     16\u001b[0m \u001b[0;34m\u001b[0m\u001b[0m\n\u001b[1;32m     17\u001b[0m \u001b[0ms\u001b[0m\u001b[0;34m.\u001b[0m\u001b[0mlisten\u001b[0m\u001b[0;34m(\u001b[0m\u001b[0;36m10\u001b[0m\u001b[0;34m)\u001b[0m\u001b[0;34m\u001b[0m\u001b[0m\n\u001b[0;32m---> 18\u001b[0;31m \u001b[0mconn\u001b[0m\u001b[0;34m,\u001b[0m \u001b[0maddr\u001b[0m \u001b[0;34m=\u001b[0m \u001b[0ms\u001b[0m\u001b[0;34m.\u001b[0m\u001b[0maccept\u001b[0m\u001b[0;34m(\u001b[0m\u001b[0;34m)\u001b[0m\u001b[0;34m\u001b[0m\u001b[0m\n\u001b[0m\u001b[1;32m     19\u001b[0m \u001b[0mprint\u001b[0m\u001b[0;34m(\u001b[0m\u001b[0;34m'Connected with'\u001b[0m \u001b[0;34m+\u001b[0m \u001b[0maddr\u001b[0m\u001b[0;34m[\u001b[0m\u001b[0;36m0\u001b[0m\u001b[0;34m]\u001b[0m \u001b[0;34m+\u001b[0m \u001b[0;34m':'\u001b[0m \u001b[0;34m+\u001b[0m \u001b[0mstr\u001b[0m\u001b[0;34m(\u001b[0m\u001b[0maddr\u001b[0m\u001b[0;34m[\u001b[0m\u001b[0;36m1\u001b[0m\u001b[0;34m]\u001b[0m\u001b[0;34m)\u001b[0m\u001b[0;34m)\u001b[0m\u001b[0;34m\u001b[0m\u001b[0m\n",
      "\u001b[0;32m/Applications/anaconda3/lib/python3.6/socket.py\u001b[0m in \u001b[0;36maccept\u001b[0;34m(self)\u001b[0m\n\u001b[1;32m    203\u001b[0m         \u001b[0mFor\u001b[0m \u001b[0mIP\u001b[0m \u001b[0msockets\u001b[0m\u001b[0;34m,\u001b[0m \u001b[0mthe\u001b[0m \u001b[0maddress\u001b[0m \u001b[0minfo\u001b[0m \u001b[0;32mis\u001b[0m \u001b[0ma\u001b[0m \u001b[0mpair\u001b[0m \u001b[0;34m(\u001b[0m\u001b[0mhostaddr\u001b[0m\u001b[0;34m,\u001b[0m \u001b[0mport\u001b[0m\u001b[0;34m)\u001b[0m\u001b[0;34m.\u001b[0m\u001b[0;34m\u001b[0m\u001b[0m\n\u001b[1;32m    204\u001b[0m         \"\"\"\n\u001b[0;32m--> 205\u001b[0;31m         \u001b[0mfd\u001b[0m\u001b[0;34m,\u001b[0m \u001b[0maddr\u001b[0m \u001b[0;34m=\u001b[0m \u001b[0mself\u001b[0m\u001b[0;34m.\u001b[0m\u001b[0m_accept\u001b[0m\u001b[0;34m(\u001b[0m\u001b[0;34m)\u001b[0m\u001b[0;34m\u001b[0m\u001b[0m\n\u001b[0m\u001b[1;32m    206\u001b[0m         \u001b[0;31m# If our type has the SOCK_NONBLOCK flag, we shouldn't pass it onto the\u001b[0m\u001b[0;34m\u001b[0m\u001b[0;34m\u001b[0m\u001b[0m\n\u001b[1;32m    207\u001b[0m         \u001b[0;31m# new socket. We do not currently allow passing SOCK_NONBLOCK to\u001b[0m\u001b[0;34m\u001b[0m\u001b[0;34m\u001b[0m\u001b[0m\n",
      "\u001b[0;31mKeyboardInterrupt\u001b[0m: "
     ]
    }
   ],
   "source": [
    "import socket\n",
    "import sys\n",
    "\n",
    "HOST = ''\n",
    "PORT = 5555\n",
    "\n",
    "s = socket.socket(socket.AF_INET, socket.SOCK_STREAM)\n",
    "\n",
    "try:\n",
    "    s.bind((HOST, PORT))\n",
    "except socket.error as msg:\n",
    "    print('Bind failed. Error Code: ' + str(msg[0]) + ' Message ' + msg[1])\n",
    "    sys.exit()\n",
    "\n",
    "print('Socket bind complete')\n",
    "\n",
    "s.listen(10)\n",
    "conn, addr = s.accept()\n",
    "print('Connected with' + addr[0] + ':' + str(addr[1]))"
   ]
  },
  {
   "cell_type": "markdown",
   "metadata": {},
   "source": [
    "#### Eval Module\n",
    "\n",
    "The idea of eval is to evaluate an expression in the form of a string and return the value.\n",
    "\n",
    "Sometimes it gets more complicated, like a string of a list of tuples to a python list of tuples, or maybe its a dictionary.\n",
    "\n",
    "Sometimes, you can use the json module, but sometimes not. What you can do, if you have a string version of any python code, is use eval.\n",
    "\n",
    "Don't use eval if you cannot trust the source. For example, some people have considered using eval to evaluate strings in the browser from users on their website, as a way to create a sort of 'onlin editor'. While you can do this, you have to be incredibly careful!\n",
    "\n",
    "First, we define a string, that carries the syntax of a list. Next, we use eval to evaluate it. Finally, we can show that it has the properties of a Python list."
   ]
  },
  {
   "cell_type": "code",
   "execution_count": 23,
   "metadata": {},
   "outputs": [
    {
     "name": "stdout",
     "output_type": "stream",
     "text": [
      "[1, 5, 7, 8, 2]\n",
      "5\n",
      "see this...ll\n",
      "code:print('hello world')\n",
      "hello world\n"
     ]
    }
   ],
   "source": [
    "list_str = '[1, 5, 7, 8, 2]'\n",
    "list_str = eval(list_str)\n",
    "\n",
    "print(list_str)\n",
    "print(list_str[1])\n",
    "\n",
    "x = input('see this...')\n",
    "check_this_out = eval(input('code:'))"
   ]
  },
  {
   "cell_type": "markdown",
   "metadata": {},
   "source": [
    "### Exec\n",
    "\n",
    "Something similar to eval is the exec function. What exec is going to do is both compile and evaluate a statement from a string. So, as you might guess, this one is even more dangerous than pickle and eval, so again, only do this with sources that can be trusted. This is another example of something people might get the wild idea of using unprotected with some sort online form so they can create their own embedded Python IDE in a browser. "
   ]
  },
  {
   "cell_type": "code",
   "execution_count": 30,
   "metadata": {},
   "outputs": [
    {
     "name": "stdout",
     "output_type": "stream",
     "text": [
      "so this works like eval\n",
      "None\n",
      "[1, 5, 7, 8, 2]\n",
      "oooo snap!!\n",
      "lets see if multi line works...\n"
     ]
    }
   ],
   "source": [
    "exec(\"print('so this works like eval')\")\n",
    "\n",
    "list_str = \"[5, 6, 2, 1, 6]\"\n",
    "list_str = exec(list_str)\n",
    "print(list_str)\n",
    "\n",
    "exec(\"list_str = [1, 5, 7, 8, 2]\")\n",
    "print(list_str)\n",
    "\n",
    "exec(\"def test(): print('oooo snap!!')\")\n",
    "test()\n",
    "\n",
    "exec('''\n",
    "def test2():\n",
    "    print(\"lets see if multi line works...\")\n",
    "''')\n",
    "test2()"
   ]
  }
 ],
 "metadata": {
  "kernelspec": {
   "display_name": "Python 3",
   "language": "python",
   "name": "python3"
  },
  "language_info": {
   "codemirror_mode": {
    "name": "ipython",
    "version": 3
   },
   "file_extension": ".py",
   "mimetype": "text/x-python",
   "name": "python",
   "nbconvert_exporter": "python",
   "pygments_lexer": "ipython3",
   "version": "3.6.4"
  }
 },
 "nbformat": 4,
 "nbformat_minor": 2
}
